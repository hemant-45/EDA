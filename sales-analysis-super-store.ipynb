{
 "cells": [
  {
   "cell_type": "markdown",
   "id": "efe1a9c2",
   "metadata": {
    "papermill": {
     "duration": 0.041649,
     "end_time": "2021-07-09T05:33:17.494192",
     "exception": false,
     "start_time": "2021-07-09T05:33:17.452543",
     "status": "completed"
    },
    "tags": []
   },
   "source": [
    "### The Sparks Foundation: Graduate Rotational Internship Program\n",
    "\n",
    "Author: Katie Huang\n",
    "\n",
    "Date: 8 July 2021\n",
    "\n",
    "# Exploratory Data Analysis on Super Store\n",
    "\n",
    "## Introduction\n",
    "\n",
    "Super Store is a small retail business located in the United States. They sell Furniture, Office Supplies and Technology products and their customers are the mass Consumer, Corporate and Home Offices. The data set contains sales, profit and geographical information of individual orders. \n",
    "\n",
    "Our task is to determine weak areas and opportunities for Super Store to boost business growth.\n",
    "\n",
    "**Business Questions**\n",
    "\n",
    "- Which Category is Best Selling and Most Profitable?\n",
    "- What are the Best Selling and Most Profitable Sub-Category?\n",
    "- Which is the Top Selling Sub-Category?\n",
    "- Which Customer Segment is Most Profitable?\n",
    "- Which is the Preferred Ship Mode?\n",
    "- Which Region is the Most Profitable?\n",
    "- Which City has the Highest Number of Sales?\n",
    "\n",
    "**Who is Reading this Analysis?**\n",
    "\n",
    "- We assume that the Super Store is a family business and is owned by 1 or 2 owners who are very invested in their business. \n",
    "- Owners are likely not people who are expert in reading charts or interpreting statistical analysis, so our analysis will be in layman terms and easy to understand.\n",
    "- They needs information to make informed decisions on how to boost business profit so, our analysis focus on finding weaknesses or opportunities and providing recommendations and marketing strategies.\n",
    "\n",
    "---\n",
    "\n",
    "## Preparing the Environment\n",
    "\n",
    "We will import the required libraries and read in the data set.\n",
    "\n",
    "- Pandas - Data manipulation\n",
    "- Matplotlib and Seaborn - Data visualisation"
   ]
  },
  {
   "cell_type": "code",
   "execution_count": 1,
   "id": "278af803",
   "metadata": {
    "execution": {
     "iopub.execute_input": "2021-07-09T05:33:17.580105Z",
     "iopub.status.busy": "2021-07-09T05:33:17.579454Z",
     "iopub.status.idle": "2021-07-09T05:33:18.618803Z",
     "shell.execute_reply": "2021-07-09T05:33:18.617926Z",
     "shell.execute_reply.started": "2021-07-09T05:32:13.895619Z"
    },
    "papermill": {
     "duration": 1.089281,
     "end_time": "2021-07-09T05:33:18.618981",
     "exception": false,
     "start_time": "2021-07-09T05:33:17.529700",
     "status": "completed"
    },
    "tags": []
   },
   "outputs": [],
   "source": [
    "# Import libraries and alias for easy reading\n",
    "import pandas as pd\n",
    "import matplotlib.pyplot as plt\n",
    "import seaborn as sns\n",
    "import warnings\n",
    "warnings.filterwarnings(\"ignore\")\n",
    "%matplotlib inline"
   ]
  },
  {
   "cell_type": "code",
   "execution_count": 2,
   "id": "c4bdadab",
   "metadata": {
    "execution": {
     "iopub.execute_input": "2021-07-09T05:33:18.697918Z",
     "iopub.status.busy": "2021-07-09T05:33:18.697170Z",
     "iopub.status.idle": "2021-07-09T05:33:18.748347Z",
     "shell.execute_reply": "2021-07-09T05:33:18.747732Z",
     "shell.execute_reply.started": "2021-07-09T05:32:13.907215Z"
    },
    "papermill": {
     "duration": 0.093525,
     "end_time": "2021-07-09T05:33:18.748501",
     "exception": false,
     "start_time": "2021-07-09T05:33:18.654976",
     "status": "completed"
    },
    "tags": []
   },
   "outputs": [],
   "source": [
    "# Read in data in CSV format\n",
    "superstore = pd.read_csv('../input/tsf-datasets/SampleSuperstore.csv')"
   ]
  },
  {
   "cell_type": "markdown",
   "id": "89529dc9",
   "metadata": {
    "papermill": {
     "duration": 0.035407,
     "end_time": "2021-07-09T05:33:18.819307",
     "exception": false,
     "start_time": "2021-07-09T05:33:18.783900",
     "status": "completed"
    },
    "tags": []
   },
   "source": [
    "---\n",
    "## Data Exploration\n",
    "\n",
    "Let's have a look at the data using df.head() and df.tail() function."
   ]
  },
  {
   "cell_type": "code",
   "execution_count": 3,
   "id": "4a1dbf07",
   "metadata": {
    "execution": {
     "iopub.execute_input": "2021-07-09T05:33:18.901412Z",
     "iopub.status.busy": "2021-07-09T05:33:18.900734Z",
     "iopub.status.idle": "2021-07-09T05:33:19.003021Z",
     "shell.execute_reply": "2021-07-09T05:33:19.002494Z",
     "shell.execute_reply.started": "2021-07-09T05:32:13.977640Z"
    },
    "papermill": {
     "duration": 0.148853,
     "end_time": "2021-07-09T05:33:19.003176",
     "exception": false,
     "start_time": "2021-07-09T05:33:18.854323",
     "status": "completed"
    },
    "tags": []
   },
   "outputs": [
    {
     "data": {
      "text/html": [
       "<div>\n",
       "<style scoped>\n",
       "    .dataframe tbody tr th:only-of-type {\n",
       "        vertical-align: middle;\n",
       "    }\n",
       "\n",
       "    .dataframe tbody tr th {\n",
       "        vertical-align: top;\n",
       "    }\n",
       "\n",
       "    .dataframe thead th {\n",
       "        text-align: right;\n",
       "    }\n",
       "</style>\n",
       "<table border=\"1\" class=\"dataframe\">\n",
       "  <thead>\n",
       "    <tr style=\"text-align: right;\">\n",
       "      <th></th>\n",
       "      <th>Ship Mode</th>\n",
       "      <th>Segment</th>\n",
       "      <th>Country</th>\n",
       "      <th>City</th>\n",
       "      <th>State</th>\n",
       "      <th>Postal Code</th>\n",
       "      <th>Region</th>\n",
       "      <th>Category</th>\n",
       "      <th>Sub-Category</th>\n",
       "      <th>Sales</th>\n",
       "      <th>Quantity</th>\n",
       "      <th>Discount</th>\n",
       "      <th>Profit</th>\n",
       "    </tr>\n",
       "  </thead>\n",
       "  <tbody>\n",
       "    <tr>\n",
       "      <th>0</th>\n",
       "      <td>Second Class</td>\n",
       "      <td>Consumer</td>\n",
       "      <td>United States</td>\n",
       "      <td>Henderson</td>\n",
       "      <td>Kentucky</td>\n",
       "      <td>42420</td>\n",
       "      <td>South</td>\n",
       "      <td>Furniture</td>\n",
       "      <td>Bookcases</td>\n",
       "      <td>261.9600</td>\n",
       "      <td>2</td>\n",
       "      <td>0.00</td>\n",
       "      <td>41.9136</td>\n",
       "    </tr>\n",
       "    <tr>\n",
       "      <th>1</th>\n",
       "      <td>Second Class</td>\n",
       "      <td>Consumer</td>\n",
       "      <td>United States</td>\n",
       "      <td>Henderson</td>\n",
       "      <td>Kentucky</td>\n",
       "      <td>42420</td>\n",
       "      <td>South</td>\n",
       "      <td>Furniture</td>\n",
       "      <td>Chairs</td>\n",
       "      <td>731.9400</td>\n",
       "      <td>3</td>\n",
       "      <td>0.00</td>\n",
       "      <td>219.5820</td>\n",
       "    </tr>\n",
       "    <tr>\n",
       "      <th>2</th>\n",
       "      <td>Second Class</td>\n",
       "      <td>Corporate</td>\n",
       "      <td>United States</td>\n",
       "      <td>Los Angeles</td>\n",
       "      <td>California</td>\n",
       "      <td>90036</td>\n",
       "      <td>West</td>\n",
       "      <td>Office Supplies</td>\n",
       "      <td>Labels</td>\n",
       "      <td>14.6200</td>\n",
       "      <td>2</td>\n",
       "      <td>0.00</td>\n",
       "      <td>6.8714</td>\n",
       "    </tr>\n",
       "    <tr>\n",
       "      <th>3</th>\n",
       "      <td>Standard Class</td>\n",
       "      <td>Consumer</td>\n",
       "      <td>United States</td>\n",
       "      <td>Fort Lauderdale</td>\n",
       "      <td>Florida</td>\n",
       "      <td>33311</td>\n",
       "      <td>South</td>\n",
       "      <td>Furniture</td>\n",
       "      <td>Tables</td>\n",
       "      <td>957.5775</td>\n",
       "      <td>5</td>\n",
       "      <td>0.45</td>\n",
       "      <td>-383.0310</td>\n",
       "    </tr>\n",
       "    <tr>\n",
       "      <th>4</th>\n",
       "      <td>Standard Class</td>\n",
       "      <td>Consumer</td>\n",
       "      <td>United States</td>\n",
       "      <td>Fort Lauderdale</td>\n",
       "      <td>Florida</td>\n",
       "      <td>33311</td>\n",
       "      <td>South</td>\n",
       "      <td>Office Supplies</td>\n",
       "      <td>Storage</td>\n",
       "      <td>22.3680</td>\n",
       "      <td>2</td>\n",
       "      <td>0.20</td>\n",
       "      <td>2.5164</td>\n",
       "    </tr>\n",
       "  </tbody>\n",
       "</table>\n",
       "</div>"
      ],
      "text/plain": [
       "        Ship Mode    Segment        Country             City       State  \\\n",
       "0    Second Class   Consumer  United States        Henderson    Kentucky   \n",
       "1    Second Class   Consumer  United States        Henderson    Kentucky   \n",
       "2    Second Class  Corporate  United States      Los Angeles  California   \n",
       "3  Standard Class   Consumer  United States  Fort Lauderdale     Florida   \n",
       "4  Standard Class   Consumer  United States  Fort Lauderdale     Florida   \n",
       "\n",
       "   Postal Code Region         Category Sub-Category     Sales  Quantity  \\\n",
       "0        42420  South        Furniture    Bookcases  261.9600         2   \n",
       "1        42420  South        Furniture       Chairs  731.9400         3   \n",
       "2        90036   West  Office Supplies       Labels   14.6200         2   \n",
       "3        33311  South        Furniture       Tables  957.5775         5   \n",
       "4        33311  South  Office Supplies      Storage   22.3680         2   \n",
       "\n",
       "   Discount    Profit  \n",
       "0      0.00   41.9136  \n",
       "1      0.00  219.5820  \n",
       "2      0.00    6.8714  \n",
       "3      0.45 -383.0310  \n",
       "4      0.20    2.5164  "
      ]
     },
     "execution_count": 3,
     "metadata": {},
     "output_type": "execute_result"
    }
   ],
   "source": [
    "# Preview first 5 rows of data set\n",
    "superstore.head()"
   ]
  },
  {
   "cell_type": "code",
   "execution_count": 4,
   "id": "19d8bde9",
   "metadata": {
    "execution": {
     "iopub.execute_input": "2021-07-09T05:33:19.096507Z",
     "iopub.status.busy": "2021-07-09T05:33:19.095716Z",
     "iopub.status.idle": "2021-07-09T05:33:19.099198Z",
     "shell.execute_reply": "2021-07-09T05:33:19.098578Z",
     "shell.execute_reply.started": "2021-07-09T05:32:14.047977Z"
    },
    "papermill": {
     "duration": 0.058859,
     "end_time": "2021-07-09T05:33:19.099337",
     "exception": false,
     "start_time": "2021-07-09T05:33:19.040478",
     "status": "completed"
    },
    "tags": []
   },
   "outputs": [
    {
     "data": {
      "text/html": [
       "<div>\n",
       "<style scoped>\n",
       "    .dataframe tbody tr th:only-of-type {\n",
       "        vertical-align: middle;\n",
       "    }\n",
       "\n",
       "    .dataframe tbody tr th {\n",
       "        vertical-align: top;\n",
       "    }\n",
       "\n",
       "    .dataframe thead th {\n",
       "        text-align: right;\n",
       "    }\n",
       "</style>\n",
       "<table border=\"1\" class=\"dataframe\">\n",
       "  <thead>\n",
       "    <tr style=\"text-align: right;\">\n",
       "      <th></th>\n",
       "      <th>Ship Mode</th>\n",
       "      <th>Segment</th>\n",
       "      <th>Country</th>\n",
       "      <th>City</th>\n",
       "      <th>State</th>\n",
       "      <th>Postal Code</th>\n",
       "      <th>Region</th>\n",
       "      <th>Category</th>\n",
       "      <th>Sub-Category</th>\n",
       "      <th>Sales</th>\n",
       "      <th>Quantity</th>\n",
       "      <th>Discount</th>\n",
       "      <th>Profit</th>\n",
       "    </tr>\n",
       "  </thead>\n",
       "  <tbody>\n",
       "    <tr>\n",
       "      <th>9989</th>\n",
       "      <td>Second Class</td>\n",
       "      <td>Consumer</td>\n",
       "      <td>United States</td>\n",
       "      <td>Miami</td>\n",
       "      <td>Florida</td>\n",
       "      <td>33180</td>\n",
       "      <td>South</td>\n",
       "      <td>Furniture</td>\n",
       "      <td>Furnishings</td>\n",
       "      <td>25.248</td>\n",
       "      <td>3</td>\n",
       "      <td>0.2</td>\n",
       "      <td>4.1028</td>\n",
       "    </tr>\n",
       "    <tr>\n",
       "      <th>9990</th>\n",
       "      <td>Standard Class</td>\n",
       "      <td>Consumer</td>\n",
       "      <td>United States</td>\n",
       "      <td>Costa Mesa</td>\n",
       "      <td>California</td>\n",
       "      <td>92627</td>\n",
       "      <td>West</td>\n",
       "      <td>Furniture</td>\n",
       "      <td>Furnishings</td>\n",
       "      <td>91.960</td>\n",
       "      <td>2</td>\n",
       "      <td>0.0</td>\n",
       "      <td>15.6332</td>\n",
       "    </tr>\n",
       "    <tr>\n",
       "      <th>9991</th>\n",
       "      <td>Standard Class</td>\n",
       "      <td>Consumer</td>\n",
       "      <td>United States</td>\n",
       "      <td>Costa Mesa</td>\n",
       "      <td>California</td>\n",
       "      <td>92627</td>\n",
       "      <td>West</td>\n",
       "      <td>Technology</td>\n",
       "      <td>Phones</td>\n",
       "      <td>258.576</td>\n",
       "      <td>2</td>\n",
       "      <td>0.2</td>\n",
       "      <td>19.3932</td>\n",
       "    </tr>\n",
       "    <tr>\n",
       "      <th>9992</th>\n",
       "      <td>Standard Class</td>\n",
       "      <td>Consumer</td>\n",
       "      <td>United States</td>\n",
       "      <td>Costa Mesa</td>\n",
       "      <td>California</td>\n",
       "      <td>92627</td>\n",
       "      <td>West</td>\n",
       "      <td>Office Supplies</td>\n",
       "      <td>Paper</td>\n",
       "      <td>29.600</td>\n",
       "      <td>4</td>\n",
       "      <td>0.0</td>\n",
       "      <td>13.3200</td>\n",
       "    </tr>\n",
       "    <tr>\n",
       "      <th>9993</th>\n",
       "      <td>Second Class</td>\n",
       "      <td>Consumer</td>\n",
       "      <td>United States</td>\n",
       "      <td>Westminster</td>\n",
       "      <td>California</td>\n",
       "      <td>92683</td>\n",
       "      <td>West</td>\n",
       "      <td>Office Supplies</td>\n",
       "      <td>Appliances</td>\n",
       "      <td>243.160</td>\n",
       "      <td>2</td>\n",
       "      <td>0.0</td>\n",
       "      <td>72.9480</td>\n",
       "    </tr>\n",
       "  </tbody>\n",
       "</table>\n",
       "</div>"
      ],
      "text/plain": [
       "           Ship Mode   Segment        Country         City       State  \\\n",
       "9989    Second Class  Consumer  United States        Miami     Florida   \n",
       "9990  Standard Class  Consumer  United States   Costa Mesa  California   \n",
       "9991  Standard Class  Consumer  United States   Costa Mesa  California   \n",
       "9992  Standard Class  Consumer  United States   Costa Mesa  California   \n",
       "9993    Second Class  Consumer  United States  Westminster  California   \n",
       "\n",
       "      Postal Code Region         Category Sub-Category    Sales  Quantity  \\\n",
       "9989        33180  South        Furniture  Furnishings   25.248         3   \n",
       "9990        92627   West        Furniture  Furnishings   91.960         2   \n",
       "9991        92627   West       Technology       Phones  258.576         2   \n",
       "9992        92627   West  Office Supplies        Paper   29.600         4   \n",
       "9993        92683   West  Office Supplies   Appliances  243.160         2   \n",
       "\n",
       "      Discount   Profit  \n",
       "9989       0.2   4.1028  \n",
       "9990       0.0  15.6332  \n",
       "9991       0.2  19.3932  \n",
       "9992       0.0  13.3200  \n",
       "9993       0.0  72.9480  "
      ]
     },
     "execution_count": 4,
     "metadata": {},
     "output_type": "execute_result"
    }
   ],
   "source": [
    "# Preview last 5 rows of data set\n",
    "superstore.tail()"
   ]
  },
  {
   "cell_type": "markdown",
   "id": "155b79a5",
   "metadata": {
    "papermill": {
     "duration": 0.036088,
     "end_time": "2021-07-09T05:33:19.172817",
     "exception": false,
     "start_time": "2021-07-09T05:33:19.136729",
     "status": "completed"
    },
    "tags": []
   },
   "source": [
    "You can easily tell that there is a mix of categorical, geographical and numerical variables. \n",
    "\n",
    "Each row represents an order of an item and the corresponding quantity, sales, discount and profit. There is also the mode of shipment, customer segment and geographical aspects. \n",
    "\n",
    "Next, we will use the df.shape() and df.info() to get more information."
   ]
  },
  {
   "cell_type": "code",
   "execution_count": 5,
   "id": "68896fff",
   "metadata": {
    "execution": {
     "iopub.execute_input": "2021-07-09T05:33:19.252279Z",
     "iopub.status.busy": "2021-07-09T05:33:19.251482Z",
     "iopub.status.idle": "2021-07-09T05:33:19.255208Z",
     "shell.execute_reply": "2021-07-09T05:33:19.255676Z",
     "shell.execute_reply.started": "2021-07-09T05:32:14.069463Z"
    },
    "papermill": {
     "duration": 0.045436,
     "end_time": "2021-07-09T05:33:19.255851",
     "exception": false,
     "start_time": "2021-07-09T05:33:19.210415",
     "status": "completed"
    },
    "tags": []
   },
   "outputs": [
    {
     "data": {
      "text/plain": [
       "(9994, 13)"
      ]
     },
     "execution_count": 5,
     "metadata": {},
     "output_type": "execute_result"
    }
   ],
   "source": [
    "# Shape of data set\n",
    "superstore.shape"
   ]
  },
  {
   "cell_type": "code",
   "execution_count": 6,
   "id": "cc5e346d",
   "metadata": {
    "execution": {
     "iopub.execute_input": "2021-07-09T05:33:19.343400Z",
     "iopub.status.busy": "2021-07-09T05:33:19.342341Z",
     "iopub.status.idle": "2021-07-09T05:33:19.363868Z",
     "shell.execute_reply": "2021-07-09T05:33:19.361773Z",
     "shell.execute_reply.started": "2021-07-09T05:32:14.085461Z"
    },
    "papermill": {
     "duration": 0.071541,
     "end_time": "2021-07-09T05:33:19.364032",
     "exception": false,
     "start_time": "2021-07-09T05:33:19.292491",
     "status": "completed"
    },
    "tags": []
   },
   "outputs": [
    {
     "name": "stdout",
     "output_type": "stream",
     "text": [
      "<class 'pandas.core.frame.DataFrame'>\n",
      "RangeIndex: 9994 entries, 0 to 9993\n",
      "Data columns (total 13 columns):\n",
      " #   Column        Non-Null Count  Dtype  \n",
      "---  ------        --------------  -----  \n",
      " 0   Ship Mode     9994 non-null   object \n",
      " 1   Segment       9994 non-null   object \n",
      " 2   Country       9994 non-null   object \n",
      " 3   City          9994 non-null   object \n",
      " 4   State         9994 non-null   object \n",
      " 5   Postal Code   9994 non-null   int64  \n",
      " 6   Region        9994 non-null   object \n",
      " 7   Category      9994 non-null   object \n",
      " 8   Sub-Category  9994 non-null   object \n",
      " 9   Sales         9994 non-null   float64\n",
      " 10  Quantity      9994 non-null   int64  \n",
      " 11  Discount      9994 non-null   float64\n",
      " 12  Profit        9994 non-null   float64\n",
      "dtypes: float64(3), int64(2), object(8)\n",
      "memory usage: 1015.1+ KB\n"
     ]
    }
   ],
   "source": [
    "# Summarised information of data set\n",
    "superstore.info()"
   ]
  },
  {
   "cell_type": "markdown",
   "id": "b5cf3a81",
   "metadata": {
    "papermill": {
     "duration": 0.036945,
     "end_time": "2021-07-09T05:33:19.438813",
     "exception": false,
     "start_time": "2021-07-09T05:33:19.401868",
     "status": "completed"
    },
    "tags": []
   },
   "source": [
    "There are 9,994 rows including header and 13 columns. Data type is correct and matches the corresponding values. \n",
    "\n",
    "---"
   ]
  },
  {
   "cell_type": "markdown",
   "id": "f3fa8777",
   "metadata": {
    "papermill": {
     "duration": 0.037421,
     "end_time": "2021-07-09T05:33:19.513799",
     "exception": false,
     "start_time": "2021-07-09T05:33:19.476378",
     "status": "completed"
    },
    "tags": []
   },
   "source": [
    "## Data Cleaning\n",
    "\n",
    "Before we start with the analysis, we must first clean the data or \"scrub the dirt\".\n",
    "\n",
    "For this analysis, we will look at the more common issues such as missing and duplicate data.\n",
    "\n",
    "**Handling Missing Values**\n",
    "\n",
    "Next we will find out whether there is Null values."
   ]
  },
  {
   "cell_type": "code",
   "execution_count": 7,
   "id": "9c815b24",
   "metadata": {
    "execution": {
     "iopub.execute_input": "2021-07-09T05:33:19.601487Z",
     "iopub.status.busy": "2021-07-09T05:33:19.600502Z",
     "iopub.status.idle": "2021-07-09T05:33:19.607701Z",
     "shell.execute_reply": "2021-07-09T05:33:19.607167Z",
     "shell.execute_reply.started": "2021-07-09T05:32:14.118859Z"
    },
    "papermill": {
     "duration": 0.057045,
     "end_time": "2021-07-09T05:33:19.607843",
     "exception": false,
     "start_time": "2021-07-09T05:33:19.550798",
     "status": "completed"
    },
    "tags": []
   },
   "outputs": [
    {
     "data": {
      "text/plain": [
       "Ship Mode       0\n",
       "Segment         0\n",
       "Country         0\n",
       "City            0\n",
       "State           0\n",
       "Postal Code     0\n",
       "Region          0\n",
       "Category        0\n",
       "Sub-Category    0\n",
       "Sales           0\n",
       "Quantity        0\n",
       "Discount        0\n",
       "Profit          0\n",
       "dtype: int64"
      ]
     },
     "execution_count": 7,
     "metadata": {},
     "output_type": "execute_result"
    }
   ],
   "source": [
    "# Find the number of null values for all columns\n",
    "superstore.isnull().sum()"
   ]
  },
  {
   "cell_type": "markdown",
   "id": "47da6e4a",
   "metadata": {
    "papermill": {
     "duration": 0.036659,
     "end_time": "2021-07-09T05:33:19.681891",
     "exception": false,
     "start_time": "2021-07-09T05:33:19.645232",
     "status": "completed"
    },
    "tags": []
   },
   "source": [
    "The result shows that the data set does not have any null value.\n",
    "\n",
    "**Duplicate Data**\n",
    "\n",
    "Then, we will find out whether there is duplicate data."
   ]
  },
  {
   "cell_type": "code",
   "execution_count": 8,
   "id": "de502a5e",
   "metadata": {
    "execution": {
     "iopub.execute_input": "2021-07-09T05:33:19.762193Z",
     "iopub.status.busy": "2021-07-09T05:33:19.761535Z",
     "iopub.status.idle": "2021-07-09T05:33:19.779959Z",
     "shell.execute_reply": "2021-07-09T05:33:19.780431Z",
     "shell.execute_reply.started": "2021-07-09T05:32:14.142845Z"
    },
    "papermill": {
     "duration": 0.061583,
     "end_time": "2021-07-09T05:33:19.780607",
     "exception": false,
     "start_time": "2021-07-09T05:33:19.719024",
     "status": "completed"
    },
    "tags": []
   },
   "outputs": [
    {
     "data": {
      "text/plain": [
       "17"
      ]
     },
     "execution_count": 8,
     "metadata": {},
     "output_type": "execute_result"
    }
   ],
   "source": [
    "# Find the number of duplicate data\n",
    "superstore.duplicated().sum()"
   ]
  },
  {
   "cell_type": "markdown",
   "id": "3147a064",
   "metadata": {
    "papermill": {
     "duration": 0.037313,
     "end_time": "2021-07-09T05:33:19.855600",
     "exception": false,
     "start_time": "2021-07-09T05:33:19.818287",
     "status": "completed"
    },
    "tags": []
   },
   "source": [
    "So, there are 17 duplicated rows. Let's run another function to view the duplicated data."
   ]
  },
  {
   "cell_type": "code",
   "execution_count": 9,
   "id": "3b4374c5",
   "metadata": {
    "execution": {
     "iopub.execute_input": "2021-07-09T05:33:19.937406Z",
     "iopub.status.busy": "2021-07-09T05:33:19.936761Z",
     "iopub.status.idle": "2021-07-09T05:33:19.976393Z",
     "shell.execute_reply": "2021-07-09T05:33:19.975845Z",
     "shell.execute_reply.started": "2021-07-09T05:32:14.178048Z"
    },
    "papermill": {
     "duration": 0.082275,
     "end_time": "2021-07-09T05:33:19.976544",
     "exception": false,
     "start_time": "2021-07-09T05:33:19.894269",
     "status": "completed"
    },
    "tags": []
   },
   "outputs": [
    {
     "data": {
      "text/html": [
       "<div>\n",
       "<style scoped>\n",
       "    .dataframe tbody tr th:only-of-type {\n",
       "        vertical-align: middle;\n",
       "    }\n",
       "\n",
       "    .dataframe tbody tr th {\n",
       "        vertical-align: top;\n",
       "    }\n",
       "\n",
       "    .dataframe thead th {\n",
       "        text-align: right;\n",
       "    }\n",
       "</style>\n",
       "<table border=\"1\" class=\"dataframe\">\n",
       "  <thead>\n",
       "    <tr style=\"text-align: right;\">\n",
       "      <th></th>\n",
       "      <th>Ship Mode</th>\n",
       "      <th>Segment</th>\n",
       "      <th>Country</th>\n",
       "      <th>City</th>\n",
       "      <th>State</th>\n",
       "      <th>Postal Code</th>\n",
       "      <th>Region</th>\n",
       "      <th>Category</th>\n",
       "      <th>Sub-Category</th>\n",
       "      <th>Sales</th>\n",
       "      <th>Quantity</th>\n",
       "      <th>Discount</th>\n",
       "      <th>Profit</th>\n",
       "    </tr>\n",
       "  </thead>\n",
       "  <tbody>\n",
       "    <tr>\n",
       "      <th>568</th>\n",
       "      <td>Standard Class</td>\n",
       "      <td>Corporate</td>\n",
       "      <td>United States</td>\n",
       "      <td>Seattle</td>\n",
       "      <td>Washington</td>\n",
       "      <td>98105</td>\n",
       "      <td>West</td>\n",
       "      <td>Office Supplies</td>\n",
       "      <td>Paper</td>\n",
       "      <td>19.440</td>\n",
       "      <td>3</td>\n",
       "      <td>0.0</td>\n",
       "      <td>9.3312</td>\n",
       "    </tr>\n",
       "    <tr>\n",
       "      <th>591</th>\n",
       "      <td>Standard Class</td>\n",
       "      <td>Consumer</td>\n",
       "      <td>United States</td>\n",
       "      <td>Salem</td>\n",
       "      <td>Oregon</td>\n",
       "      <td>97301</td>\n",
       "      <td>West</td>\n",
       "      <td>Office Supplies</td>\n",
       "      <td>Paper</td>\n",
       "      <td>10.368</td>\n",
       "      <td>2</td>\n",
       "      <td>0.2</td>\n",
       "      <td>3.6288</td>\n",
       "    </tr>\n",
       "    <tr>\n",
       "      <th>935</th>\n",
       "      <td>Standard Class</td>\n",
       "      <td>Home Office</td>\n",
       "      <td>United States</td>\n",
       "      <td>Philadelphia</td>\n",
       "      <td>Pennsylvania</td>\n",
       "      <td>19120</td>\n",
       "      <td>East</td>\n",
       "      <td>Office Supplies</td>\n",
       "      <td>Paper</td>\n",
       "      <td>15.552</td>\n",
       "      <td>3</td>\n",
       "      <td>0.2</td>\n",
       "      <td>5.4432</td>\n",
       "    </tr>\n",
       "    <tr>\n",
       "      <th>1186</th>\n",
       "      <td>Standard Class</td>\n",
       "      <td>Corporate</td>\n",
       "      <td>United States</td>\n",
       "      <td>Seattle</td>\n",
       "      <td>Washington</td>\n",
       "      <td>98103</td>\n",
       "      <td>West</td>\n",
       "      <td>Office Supplies</td>\n",
       "      <td>Paper</td>\n",
       "      <td>25.920</td>\n",
       "      <td>4</td>\n",
       "      <td>0.0</td>\n",
       "      <td>12.4416</td>\n",
       "    </tr>\n",
       "    <tr>\n",
       "      <th>1479</th>\n",
       "      <td>Standard Class</td>\n",
       "      <td>Consumer</td>\n",
       "      <td>United States</td>\n",
       "      <td>San Francisco</td>\n",
       "      <td>California</td>\n",
       "      <td>94122</td>\n",
       "      <td>West</td>\n",
       "      <td>Office Supplies</td>\n",
       "      <td>Paper</td>\n",
       "      <td>25.920</td>\n",
       "      <td>4</td>\n",
       "      <td>0.0</td>\n",
       "      <td>12.4416</td>\n",
       "    </tr>\n",
       "    <tr>\n",
       "      <th>2803</th>\n",
       "      <td>Standard Class</td>\n",
       "      <td>Consumer</td>\n",
       "      <td>United States</td>\n",
       "      <td>San Francisco</td>\n",
       "      <td>California</td>\n",
       "      <td>94122</td>\n",
       "      <td>West</td>\n",
       "      <td>Office Supplies</td>\n",
       "      <td>Paper</td>\n",
       "      <td>12.840</td>\n",
       "      <td>3</td>\n",
       "      <td>0.0</td>\n",
       "      <td>5.7780</td>\n",
       "    </tr>\n",
       "    <tr>\n",
       "      <th>2807</th>\n",
       "      <td>Second Class</td>\n",
       "      <td>Consumer</td>\n",
       "      <td>United States</td>\n",
       "      <td>Seattle</td>\n",
       "      <td>Washington</td>\n",
       "      <td>98115</td>\n",
       "      <td>West</td>\n",
       "      <td>Office Supplies</td>\n",
       "      <td>Paper</td>\n",
       "      <td>12.960</td>\n",
       "      <td>2</td>\n",
       "      <td>0.0</td>\n",
       "      <td>6.2208</td>\n",
       "    </tr>\n",
       "    <tr>\n",
       "      <th>2836</th>\n",
       "      <td>Standard Class</td>\n",
       "      <td>Consumer</td>\n",
       "      <td>United States</td>\n",
       "      <td>Los Angeles</td>\n",
       "      <td>California</td>\n",
       "      <td>90036</td>\n",
       "      <td>West</td>\n",
       "      <td>Office Supplies</td>\n",
       "      <td>Paper</td>\n",
       "      <td>19.440</td>\n",
       "      <td>3</td>\n",
       "      <td>0.0</td>\n",
       "      <td>9.3312</td>\n",
       "    </tr>\n",
       "    <tr>\n",
       "      <th>3127</th>\n",
       "      <td>Standard Class</td>\n",
       "      <td>Consumer</td>\n",
       "      <td>United States</td>\n",
       "      <td>New York City</td>\n",
       "      <td>New York</td>\n",
       "      <td>10011</td>\n",
       "      <td>East</td>\n",
       "      <td>Office Supplies</td>\n",
       "      <td>Paper</td>\n",
       "      <td>49.120</td>\n",
       "      <td>4</td>\n",
       "      <td>0.0</td>\n",
       "      <td>23.0864</td>\n",
       "    </tr>\n",
       "    <tr>\n",
       "      <th>3405</th>\n",
       "      <td>Standard Class</td>\n",
       "      <td>Home Office</td>\n",
       "      <td>United States</td>\n",
       "      <td>Columbus</td>\n",
       "      <td>Ohio</td>\n",
       "      <td>43229</td>\n",
       "      <td>East</td>\n",
       "      <td>Furniture</td>\n",
       "      <td>Chairs</td>\n",
       "      <td>281.372</td>\n",
       "      <td>2</td>\n",
       "      <td>0.3</td>\n",
       "      <td>-12.0588</td>\n",
       "    </tr>\n",
       "    <tr>\n",
       "      <th>3412</th>\n",
       "      <td>Standard Class</td>\n",
       "      <td>Corporate</td>\n",
       "      <td>United States</td>\n",
       "      <td>San Francisco</td>\n",
       "      <td>California</td>\n",
       "      <td>94122</td>\n",
       "      <td>West</td>\n",
       "      <td>Office Supplies</td>\n",
       "      <td>Art</td>\n",
       "      <td>11.760</td>\n",
       "      <td>4</td>\n",
       "      <td>0.0</td>\n",
       "      <td>3.1752</td>\n",
       "    </tr>\n",
       "    <tr>\n",
       "      <th>5372</th>\n",
       "      <td>Standard Class</td>\n",
       "      <td>Corporate</td>\n",
       "      <td>United States</td>\n",
       "      <td>Houston</td>\n",
       "      <td>Texas</td>\n",
       "      <td>77041</td>\n",
       "      <td>Central</td>\n",
       "      <td>Office Supplies</td>\n",
       "      <td>Paper</td>\n",
       "      <td>15.552</td>\n",
       "      <td>3</td>\n",
       "      <td>0.2</td>\n",
       "      <td>5.4432</td>\n",
       "    </tr>\n",
       "    <tr>\n",
       "      <th>5493</th>\n",
       "      <td>Same Day</td>\n",
       "      <td>Home Office</td>\n",
       "      <td>United States</td>\n",
       "      <td>San Francisco</td>\n",
       "      <td>California</td>\n",
       "      <td>94122</td>\n",
       "      <td>West</td>\n",
       "      <td>Office Supplies</td>\n",
       "      <td>Labels</td>\n",
       "      <td>41.400</td>\n",
       "      <td>4</td>\n",
       "      <td>0.0</td>\n",
       "      <td>19.8720</td>\n",
       "    </tr>\n",
       "    <tr>\n",
       "      <th>6245</th>\n",
       "      <td>Standard Class</td>\n",
       "      <td>Home Office</td>\n",
       "      <td>United States</td>\n",
       "      <td>Seattle</td>\n",
       "      <td>Washington</td>\n",
       "      <td>98105</td>\n",
       "      <td>West</td>\n",
       "      <td>Furniture</td>\n",
       "      <td>Furnishings</td>\n",
       "      <td>22.140</td>\n",
       "      <td>3</td>\n",
       "      <td>0.0</td>\n",
       "      <td>6.4206</td>\n",
       "    </tr>\n",
       "    <tr>\n",
       "      <th>6409</th>\n",
       "      <td>First Class</td>\n",
       "      <td>Consumer</td>\n",
       "      <td>United States</td>\n",
       "      <td>Houston</td>\n",
       "      <td>Texas</td>\n",
       "      <td>77041</td>\n",
       "      <td>Central</td>\n",
       "      <td>Office Supplies</td>\n",
       "      <td>Paper</td>\n",
       "      <td>47.952</td>\n",
       "      <td>3</td>\n",
       "      <td>0.2</td>\n",
       "      <td>16.1838</td>\n",
       "    </tr>\n",
       "    <tr>\n",
       "      <th>8457</th>\n",
       "      <td>Second Class</td>\n",
       "      <td>Corporate</td>\n",
       "      <td>United States</td>\n",
       "      <td>Chicago</td>\n",
       "      <td>Illinois</td>\n",
       "      <td>60653</td>\n",
       "      <td>Central</td>\n",
       "      <td>Office Supplies</td>\n",
       "      <td>Binders</td>\n",
       "      <td>3.564</td>\n",
       "      <td>3</td>\n",
       "      <td>0.8</td>\n",
       "      <td>-6.2370</td>\n",
       "    </tr>\n",
       "    <tr>\n",
       "      <th>8533</th>\n",
       "      <td>Standard Class</td>\n",
       "      <td>Consumer</td>\n",
       "      <td>United States</td>\n",
       "      <td>Detroit</td>\n",
       "      <td>Michigan</td>\n",
       "      <td>48227</td>\n",
       "      <td>Central</td>\n",
       "      <td>Furniture</td>\n",
       "      <td>Chairs</td>\n",
       "      <td>389.970</td>\n",
       "      <td>3</td>\n",
       "      <td>0.0</td>\n",
       "      <td>35.0973</td>\n",
       "    </tr>\n",
       "  </tbody>\n",
       "</table>\n",
       "</div>"
      ],
      "text/plain": [
       "           Ship Mode      Segment        Country           City         State  \\\n",
       "568   Standard Class    Corporate  United States        Seattle    Washington   \n",
       "591   Standard Class     Consumer  United States          Salem        Oregon   \n",
       "935   Standard Class  Home Office  United States   Philadelphia  Pennsylvania   \n",
       "1186  Standard Class    Corporate  United States        Seattle    Washington   \n",
       "1479  Standard Class     Consumer  United States  San Francisco    California   \n",
       "2803  Standard Class     Consumer  United States  San Francisco    California   \n",
       "2807    Second Class     Consumer  United States        Seattle    Washington   \n",
       "2836  Standard Class     Consumer  United States    Los Angeles    California   \n",
       "3127  Standard Class     Consumer  United States  New York City      New York   \n",
       "3405  Standard Class  Home Office  United States       Columbus          Ohio   \n",
       "3412  Standard Class    Corporate  United States  San Francisco    California   \n",
       "5372  Standard Class    Corporate  United States        Houston         Texas   \n",
       "5493        Same Day  Home Office  United States  San Francisco    California   \n",
       "6245  Standard Class  Home Office  United States        Seattle    Washington   \n",
       "6409     First Class     Consumer  United States        Houston         Texas   \n",
       "8457    Second Class    Corporate  United States        Chicago      Illinois   \n",
       "8533  Standard Class     Consumer  United States        Detroit      Michigan   \n",
       "\n",
       "      Postal Code   Region         Category Sub-Category    Sales  Quantity  \\\n",
       "568         98105     West  Office Supplies        Paper   19.440         3   \n",
       "591         97301     West  Office Supplies        Paper   10.368         2   \n",
       "935         19120     East  Office Supplies        Paper   15.552         3   \n",
       "1186        98103     West  Office Supplies        Paper   25.920         4   \n",
       "1479        94122     West  Office Supplies        Paper   25.920         4   \n",
       "2803        94122     West  Office Supplies        Paper   12.840         3   \n",
       "2807        98115     West  Office Supplies        Paper   12.960         2   \n",
       "2836        90036     West  Office Supplies        Paper   19.440         3   \n",
       "3127        10011     East  Office Supplies        Paper   49.120         4   \n",
       "3405        43229     East        Furniture       Chairs  281.372         2   \n",
       "3412        94122     West  Office Supplies          Art   11.760         4   \n",
       "5372        77041  Central  Office Supplies        Paper   15.552         3   \n",
       "5493        94122     West  Office Supplies       Labels   41.400         4   \n",
       "6245        98105     West        Furniture  Furnishings   22.140         3   \n",
       "6409        77041  Central  Office Supplies        Paper   47.952         3   \n",
       "8457        60653  Central  Office Supplies      Binders    3.564         3   \n",
       "8533        48227  Central        Furniture       Chairs  389.970         3   \n",
       "\n",
       "      Discount   Profit  \n",
       "568        0.0   9.3312  \n",
       "591        0.2   3.6288  \n",
       "935        0.2   5.4432  \n",
       "1186       0.0  12.4416  \n",
       "1479       0.0  12.4416  \n",
       "2803       0.0   5.7780  \n",
       "2807       0.0   6.2208  \n",
       "2836       0.0   9.3312  \n",
       "3127       0.0  23.0864  \n",
       "3405       0.3 -12.0588  \n",
       "3412       0.0   3.1752  \n",
       "5372       0.2   5.4432  \n",
       "5493       0.0  19.8720  \n",
       "6245       0.0   6.4206  \n",
       "6409       0.2  16.1838  \n",
       "8457       0.8  -6.2370  \n",
       "8533       0.0  35.0973  "
      ]
     },
     "execution_count": 9,
     "metadata": {},
     "output_type": "execute_result"
    }
   ],
   "source": [
    "# Show the duplicated rows\n",
    "superstore[superstore.duplicated(keep = 'last')]"
   ]
  },
  {
   "cell_type": "markdown",
   "id": "07a559d1",
   "metadata": {
    "papermill": {
     "duration": 0.038994,
     "end_time": "2021-07-09T05:33:20.055150",
     "exception": false,
     "start_time": "2021-07-09T05:33:20.016156",
     "status": "completed"
    },
    "tags": []
   },
   "source": [
    "We will then run the drop_duplicates() function to drop the duplicated rows."
   ]
  },
  {
   "cell_type": "code",
   "execution_count": 10,
   "id": "c1a51b53",
   "metadata": {
    "execution": {
     "iopub.execute_input": "2021-07-09T05:33:20.141187Z",
     "iopub.status.busy": "2021-07-09T05:33:20.140491Z",
     "iopub.status.idle": "2021-07-09T05:33:20.156189Z",
     "shell.execute_reply": "2021-07-09T05:33:20.155593Z",
     "shell.execute_reply.started": "2021-07-09T05:32:14.219054Z"
    },
    "papermill": {
     "duration": 0.059646,
     "end_time": "2021-07-09T05:33:20.156344",
     "exception": false,
     "start_time": "2021-07-09T05:33:20.096698",
     "status": "completed"
    },
    "tags": []
   },
   "outputs": [],
   "source": [
    "# Drop the duplicated rows\n",
    "superstore.drop_duplicates(inplace = True)"
   ]
  },
  {
   "cell_type": "code",
   "execution_count": 11,
   "id": "042c60bc",
   "metadata": {
    "execution": {
     "iopub.execute_input": "2021-07-09T05:33:20.241821Z",
     "iopub.status.busy": "2021-07-09T05:33:20.241115Z",
     "iopub.status.idle": "2021-07-09T05:33:20.244557Z",
     "shell.execute_reply": "2021-07-09T05:33:20.245137Z",
     "shell.execute_reply.started": "2021-07-09T05:32:14.238082Z"
    },
    "papermill": {
     "duration": 0.048363,
     "end_time": "2021-07-09T05:33:20.245347",
     "exception": false,
     "start_time": "2021-07-09T05:33:20.196984",
     "status": "completed"
    },
    "tags": []
   },
   "outputs": [
    {
     "data": {
      "text/plain": [
       "(9977, 13)"
      ]
     },
     "execution_count": 11,
     "metadata": {},
     "output_type": "execute_result"
    }
   ],
   "source": [
    "# Find the no. of rows and columns\n",
    "superstore.shape"
   ]
  },
  {
   "cell_type": "markdown",
   "id": "6e728051",
   "metadata": {
    "papermill": {
     "duration": 0.038739,
     "end_time": "2021-07-09T05:33:20.324022",
     "exception": false,
     "start_time": "2021-07-09T05:33:20.285283",
     "status": "completed"
    },
    "tags": []
   },
   "source": [
    "Alright! We can confirm that the duplicated rows have been dropped as the rows were 9993 before and now it's reduced to 9977 rows.\n",
    "\n",
    "**Calculated Field**\n",
    "\n",
    "Now, we will create a calculated field for Profit Margin. The formula is (Profit / Sales) * 100."
   ]
  },
  {
   "cell_type": "code",
   "execution_count": 12,
   "id": "c1dd216a",
   "metadata": {
    "execution": {
     "iopub.execute_input": "2021-07-09T05:33:20.408141Z",
     "iopub.status.busy": "2021-07-09T05:33:20.407201Z",
     "iopub.status.idle": "2021-07-09T05:33:20.443417Z",
     "shell.execute_reply": "2021-07-09T05:33:20.443913Z",
     "shell.execute_reply.started": "2021-07-09T05:32:14.283069Z"
    },
    "papermill": {
     "duration": 0.081587,
     "end_time": "2021-07-09T05:33:20.444101",
     "exception": false,
     "start_time": "2021-07-09T05:33:20.362514",
     "status": "completed"
    },
    "tags": []
   },
   "outputs": [
    {
     "data": {
      "text/html": [
       "<div>\n",
       "<style scoped>\n",
       "    .dataframe tbody tr th:only-of-type {\n",
       "        vertical-align: middle;\n",
       "    }\n",
       "\n",
       "    .dataframe tbody tr th {\n",
       "        vertical-align: top;\n",
       "    }\n",
       "\n",
       "    .dataframe thead th {\n",
       "        text-align: right;\n",
       "    }\n",
       "</style>\n",
       "<table border=\"1\" class=\"dataframe\">\n",
       "  <thead>\n",
       "    <tr style=\"text-align: right;\">\n",
       "      <th></th>\n",
       "      <th>Ship Mode</th>\n",
       "      <th>Segment</th>\n",
       "      <th>Country</th>\n",
       "      <th>City</th>\n",
       "      <th>State</th>\n",
       "      <th>Postal Code</th>\n",
       "      <th>Region</th>\n",
       "      <th>Category</th>\n",
       "      <th>Sub-Category</th>\n",
       "      <th>Sales</th>\n",
       "      <th>Quantity</th>\n",
       "      <th>Discount</th>\n",
       "      <th>Profit</th>\n",
       "      <th>Profit Margin %</th>\n",
       "    </tr>\n",
       "  </thead>\n",
       "  <tbody>\n",
       "    <tr>\n",
       "      <th>0</th>\n",
       "      <td>Second Class</td>\n",
       "      <td>Consumer</td>\n",
       "      <td>United States</td>\n",
       "      <td>Henderson</td>\n",
       "      <td>Kentucky</td>\n",
       "      <td>42420</td>\n",
       "      <td>South</td>\n",
       "      <td>Furniture</td>\n",
       "      <td>Bookcases</td>\n",
       "      <td>261.9600</td>\n",
       "      <td>2</td>\n",
       "      <td>0.00</td>\n",
       "      <td>41.9136</td>\n",
       "      <td>16.00</td>\n",
       "    </tr>\n",
       "    <tr>\n",
       "      <th>1</th>\n",
       "      <td>Second Class</td>\n",
       "      <td>Consumer</td>\n",
       "      <td>United States</td>\n",
       "      <td>Henderson</td>\n",
       "      <td>Kentucky</td>\n",
       "      <td>42420</td>\n",
       "      <td>South</td>\n",
       "      <td>Furniture</td>\n",
       "      <td>Chairs</td>\n",
       "      <td>731.9400</td>\n",
       "      <td>3</td>\n",
       "      <td>0.00</td>\n",
       "      <td>219.5820</td>\n",
       "      <td>30.00</td>\n",
       "    </tr>\n",
       "    <tr>\n",
       "      <th>2</th>\n",
       "      <td>Second Class</td>\n",
       "      <td>Corporate</td>\n",
       "      <td>United States</td>\n",
       "      <td>Los Angeles</td>\n",
       "      <td>California</td>\n",
       "      <td>90036</td>\n",
       "      <td>West</td>\n",
       "      <td>Office Supplies</td>\n",
       "      <td>Labels</td>\n",
       "      <td>14.6200</td>\n",
       "      <td>2</td>\n",
       "      <td>0.00</td>\n",
       "      <td>6.8714</td>\n",
       "      <td>47.00</td>\n",
       "    </tr>\n",
       "    <tr>\n",
       "      <th>3</th>\n",
       "      <td>Standard Class</td>\n",
       "      <td>Consumer</td>\n",
       "      <td>United States</td>\n",
       "      <td>Fort Lauderdale</td>\n",
       "      <td>Florida</td>\n",
       "      <td>33311</td>\n",
       "      <td>South</td>\n",
       "      <td>Furniture</td>\n",
       "      <td>Tables</td>\n",
       "      <td>957.5775</td>\n",
       "      <td>5</td>\n",
       "      <td>0.45</td>\n",
       "      <td>-383.0310</td>\n",
       "      <td>-40.00</td>\n",
       "    </tr>\n",
       "    <tr>\n",
       "      <th>4</th>\n",
       "      <td>Standard Class</td>\n",
       "      <td>Consumer</td>\n",
       "      <td>United States</td>\n",
       "      <td>Fort Lauderdale</td>\n",
       "      <td>Florida</td>\n",
       "      <td>33311</td>\n",
       "      <td>South</td>\n",
       "      <td>Office Supplies</td>\n",
       "      <td>Storage</td>\n",
       "      <td>22.3680</td>\n",
       "      <td>2</td>\n",
       "      <td>0.20</td>\n",
       "      <td>2.5164</td>\n",
       "      <td>11.25</td>\n",
       "    </tr>\n",
       "  </tbody>\n",
       "</table>\n",
       "</div>"
      ],
      "text/plain": [
       "        Ship Mode    Segment        Country             City       State  \\\n",
       "0    Second Class   Consumer  United States        Henderson    Kentucky   \n",
       "1    Second Class   Consumer  United States        Henderson    Kentucky   \n",
       "2    Second Class  Corporate  United States      Los Angeles  California   \n",
       "3  Standard Class   Consumer  United States  Fort Lauderdale     Florida   \n",
       "4  Standard Class   Consumer  United States  Fort Lauderdale     Florida   \n",
       "\n",
       "   Postal Code Region         Category Sub-Category     Sales  Quantity  \\\n",
       "0        42420  South        Furniture    Bookcases  261.9600         2   \n",
       "1        42420  South        Furniture       Chairs  731.9400         3   \n",
       "2        90036   West  Office Supplies       Labels   14.6200         2   \n",
       "3        33311  South        Furniture       Tables  957.5775         5   \n",
       "4        33311  South  Office Supplies      Storage   22.3680         2   \n",
       "\n",
       "   Discount    Profit  Profit Margin %  \n",
       "0      0.00   41.9136            16.00  \n",
       "1      0.00  219.5820            30.00  \n",
       "2      0.00    6.8714            47.00  \n",
       "3      0.45 -383.0310           -40.00  \n",
       "4      0.20    2.5164            11.25  "
      ]
     },
     "execution_count": 12,
     "metadata": {},
     "output_type": "execute_result"
    }
   ],
   "source": [
    "superstore['Profit Margin %'] = (superstore.Profit / superstore.Sales) * 100\n",
    "superstore.head(5)"
   ]
  },
  {
   "cell_type": "markdown",
   "id": "72e71a25",
   "metadata": {
    "papermill": {
     "duration": 0.038984,
     "end_time": "2021-07-09T05:33:20.522472",
     "exception": false,
     "start_time": "2021-07-09T05:33:20.483488",
     "status": "completed"
    },
    "tags": []
   },
   "source": [
    "Now that the data set has been scrubbed, we can proceed with some statistics analysis!\n",
    "\n",
    "---\n",
    "\n",
    "## Descriptive Statistics\n",
    "\n",
    "Here, we will do a descriptive statistical analysis. We use df.describe() and assign 'include = 'all' to ensure that categorical features are also included in the output.\n"
   ]
  },
  {
   "cell_type": "code",
   "execution_count": 13,
   "id": "4c47be1c",
   "metadata": {
    "execution": {
     "iopub.execute_input": "2021-07-09T05:33:20.604422Z",
     "iopub.status.busy": "2021-07-09T05:33:20.603784Z",
     "iopub.status.idle": "2021-07-09T05:33:20.682515Z",
     "shell.execute_reply": "2021-07-09T05:33:20.683104Z",
     "shell.execute_reply.started": "2021-07-09T05:32:14.344330Z"
    },
    "papermill": {
     "duration": 0.121319,
     "end_time": "2021-07-09T05:33:20.683283",
     "exception": false,
     "start_time": "2021-07-09T05:33:20.561964",
     "status": "completed"
    },
    "tags": []
   },
   "outputs": [
    {
     "data": {
      "text/html": [
       "<div>\n",
       "<style scoped>\n",
       "    .dataframe tbody tr th:only-of-type {\n",
       "        vertical-align: middle;\n",
       "    }\n",
       "\n",
       "    .dataframe tbody tr th {\n",
       "        vertical-align: top;\n",
       "    }\n",
       "\n",
       "    .dataframe thead th {\n",
       "        text-align: right;\n",
       "    }\n",
       "</style>\n",
       "<table border=\"1\" class=\"dataframe\">\n",
       "  <thead>\n",
       "    <tr style=\"text-align: right;\">\n",
       "      <th></th>\n",
       "      <th>Ship Mode</th>\n",
       "      <th>Segment</th>\n",
       "      <th>Country</th>\n",
       "      <th>City</th>\n",
       "      <th>State</th>\n",
       "      <th>Postal Code</th>\n",
       "      <th>Region</th>\n",
       "      <th>Category</th>\n",
       "      <th>Sub-Category</th>\n",
       "      <th>Sales</th>\n",
       "      <th>Quantity</th>\n",
       "      <th>Discount</th>\n",
       "      <th>Profit</th>\n",
       "      <th>Profit Margin %</th>\n",
       "    </tr>\n",
       "  </thead>\n",
       "  <tbody>\n",
       "    <tr>\n",
       "      <th>count</th>\n",
       "      <td>9977</td>\n",
       "      <td>9977</td>\n",
       "      <td>9977</td>\n",
       "      <td>9977</td>\n",
       "      <td>9977</td>\n",
       "      <td>9977.000000</td>\n",
       "      <td>9977</td>\n",
       "      <td>9977</td>\n",
       "      <td>9977</td>\n",
       "      <td>9977.000000</td>\n",
       "      <td>9977.000000</td>\n",
       "      <td>9977.000000</td>\n",
       "      <td>9977.00000</td>\n",
       "      <td>9977.000000</td>\n",
       "    </tr>\n",
       "    <tr>\n",
       "      <th>unique</th>\n",
       "      <td>4</td>\n",
       "      <td>3</td>\n",
       "      <td>1</td>\n",
       "      <td>531</td>\n",
       "      <td>49</td>\n",
       "      <td>NaN</td>\n",
       "      <td>4</td>\n",
       "      <td>3</td>\n",
       "      <td>17</td>\n",
       "      <td>NaN</td>\n",
       "      <td>NaN</td>\n",
       "      <td>NaN</td>\n",
       "      <td>NaN</td>\n",
       "      <td>NaN</td>\n",
       "    </tr>\n",
       "    <tr>\n",
       "      <th>top</th>\n",
       "      <td>Standard Class</td>\n",
       "      <td>Consumer</td>\n",
       "      <td>United States</td>\n",
       "      <td>New York City</td>\n",
       "      <td>California</td>\n",
       "      <td>NaN</td>\n",
       "      <td>West</td>\n",
       "      <td>Office Supplies</td>\n",
       "      <td>Binders</td>\n",
       "      <td>NaN</td>\n",
       "      <td>NaN</td>\n",
       "      <td>NaN</td>\n",
       "      <td>NaN</td>\n",
       "      <td>NaN</td>\n",
       "    </tr>\n",
       "    <tr>\n",
       "      <th>freq</th>\n",
       "      <td>5955</td>\n",
       "      <td>5183</td>\n",
       "      <td>9977</td>\n",
       "      <td>914</td>\n",
       "      <td>1996</td>\n",
       "      <td>NaN</td>\n",
       "      <td>3193</td>\n",
       "      <td>6012</td>\n",
       "      <td>1522</td>\n",
       "      <td>NaN</td>\n",
       "      <td>NaN</td>\n",
       "      <td>NaN</td>\n",
       "      <td>NaN</td>\n",
       "      <td>NaN</td>\n",
       "    </tr>\n",
       "    <tr>\n",
       "      <th>mean</th>\n",
       "      <td>NaN</td>\n",
       "      <td>NaN</td>\n",
       "      <td>NaN</td>\n",
       "      <td>NaN</td>\n",
       "      <td>NaN</td>\n",
       "      <td>55154.964117</td>\n",
       "      <td>NaN</td>\n",
       "      <td>NaN</td>\n",
       "      <td>NaN</td>\n",
       "      <td>230.148902</td>\n",
       "      <td>3.790719</td>\n",
       "      <td>0.156278</td>\n",
       "      <td>28.69013</td>\n",
       "      <td>12.011354</td>\n",
       "    </tr>\n",
       "    <tr>\n",
       "      <th>std</th>\n",
       "      <td>NaN</td>\n",
       "      <td>NaN</td>\n",
       "      <td>NaN</td>\n",
       "      <td>NaN</td>\n",
       "      <td>NaN</td>\n",
       "      <td>32058.266816</td>\n",
       "      <td>NaN</td>\n",
       "      <td>NaN</td>\n",
       "      <td>NaN</td>\n",
       "      <td>623.721409</td>\n",
       "      <td>2.226657</td>\n",
       "      <td>0.206455</td>\n",
       "      <td>234.45784</td>\n",
       "      <td>46.663769</td>\n",
       "    </tr>\n",
       "    <tr>\n",
       "      <th>min</th>\n",
       "      <td>NaN</td>\n",
       "      <td>NaN</td>\n",
       "      <td>NaN</td>\n",
       "      <td>NaN</td>\n",
       "      <td>NaN</td>\n",
       "      <td>1040.000000</td>\n",
       "      <td>NaN</td>\n",
       "      <td>NaN</td>\n",
       "      <td>NaN</td>\n",
       "      <td>0.444000</td>\n",
       "      <td>1.000000</td>\n",
       "      <td>0.000000</td>\n",
       "      <td>-6599.97800</td>\n",
       "      <td>-275.000000</td>\n",
       "    </tr>\n",
       "    <tr>\n",
       "      <th>25%</th>\n",
       "      <td>NaN</td>\n",
       "      <td>NaN</td>\n",
       "      <td>NaN</td>\n",
       "      <td>NaN</td>\n",
       "      <td>NaN</td>\n",
       "      <td>23223.000000</td>\n",
       "      <td>NaN</td>\n",
       "      <td>NaN</td>\n",
       "      <td>NaN</td>\n",
       "      <td>17.300000</td>\n",
       "      <td>2.000000</td>\n",
       "      <td>0.000000</td>\n",
       "      <td>1.72620</td>\n",
       "      <td>7.500000</td>\n",
       "    </tr>\n",
       "    <tr>\n",
       "      <th>50%</th>\n",
       "      <td>NaN</td>\n",
       "      <td>NaN</td>\n",
       "      <td>NaN</td>\n",
       "      <td>NaN</td>\n",
       "      <td>NaN</td>\n",
       "      <td>55901.000000</td>\n",
       "      <td>NaN</td>\n",
       "      <td>NaN</td>\n",
       "      <td>NaN</td>\n",
       "      <td>54.816000</td>\n",
       "      <td>3.000000</td>\n",
       "      <td>0.200000</td>\n",
       "      <td>8.67100</td>\n",
       "      <td>27.000000</td>\n",
       "    </tr>\n",
       "    <tr>\n",
       "      <th>75%</th>\n",
       "      <td>NaN</td>\n",
       "      <td>NaN</td>\n",
       "      <td>NaN</td>\n",
       "      <td>NaN</td>\n",
       "      <td>NaN</td>\n",
       "      <td>90008.000000</td>\n",
       "      <td>NaN</td>\n",
       "      <td>NaN</td>\n",
       "      <td>NaN</td>\n",
       "      <td>209.970000</td>\n",
       "      <td>5.000000</td>\n",
       "      <td>0.200000</td>\n",
       "      <td>29.37200</td>\n",
       "      <td>36.250000</td>\n",
       "    </tr>\n",
       "    <tr>\n",
       "      <th>max</th>\n",
       "      <td>NaN</td>\n",
       "      <td>NaN</td>\n",
       "      <td>NaN</td>\n",
       "      <td>NaN</td>\n",
       "      <td>NaN</td>\n",
       "      <td>99301.000000</td>\n",
       "      <td>NaN</td>\n",
       "      <td>NaN</td>\n",
       "      <td>NaN</td>\n",
       "      <td>22638.480000</td>\n",
       "      <td>14.000000</td>\n",
       "      <td>0.800000</td>\n",
       "      <td>8399.97600</td>\n",
       "      <td>50.000000</td>\n",
       "    </tr>\n",
       "  </tbody>\n",
       "</table>\n",
       "</div>"
      ],
      "text/plain": [
       "             Ship Mode   Segment        Country           City       State  \\\n",
       "count             9977      9977           9977           9977        9977   \n",
       "unique               4         3              1            531          49   \n",
       "top     Standard Class  Consumer  United States  New York City  California   \n",
       "freq              5955      5183           9977            914        1996   \n",
       "mean               NaN       NaN            NaN            NaN         NaN   \n",
       "std                NaN       NaN            NaN            NaN         NaN   \n",
       "min                NaN       NaN            NaN            NaN         NaN   \n",
       "25%                NaN       NaN            NaN            NaN         NaN   \n",
       "50%                NaN       NaN            NaN            NaN         NaN   \n",
       "75%                NaN       NaN            NaN            NaN         NaN   \n",
       "max                NaN       NaN            NaN            NaN         NaN   \n",
       "\n",
       "         Postal Code Region         Category Sub-Category         Sales  \\\n",
       "count    9977.000000   9977             9977         9977   9977.000000   \n",
       "unique           NaN      4                3           17           NaN   \n",
       "top              NaN   West  Office Supplies      Binders           NaN   \n",
       "freq             NaN   3193             6012         1522           NaN   \n",
       "mean    55154.964117    NaN              NaN          NaN    230.148902   \n",
       "std     32058.266816    NaN              NaN          NaN    623.721409   \n",
       "min      1040.000000    NaN              NaN          NaN      0.444000   \n",
       "25%     23223.000000    NaN              NaN          NaN     17.300000   \n",
       "50%     55901.000000    NaN              NaN          NaN     54.816000   \n",
       "75%     90008.000000    NaN              NaN          NaN    209.970000   \n",
       "max     99301.000000    NaN              NaN          NaN  22638.480000   \n",
       "\n",
       "           Quantity     Discount      Profit  Profit Margin %  \n",
       "count   9977.000000  9977.000000  9977.00000      9977.000000  \n",
       "unique          NaN          NaN         NaN              NaN  \n",
       "top             NaN          NaN         NaN              NaN  \n",
       "freq            NaN          NaN         NaN              NaN  \n",
       "mean       3.790719     0.156278    28.69013        12.011354  \n",
       "std        2.226657     0.206455   234.45784        46.663769  \n",
       "min        1.000000     0.000000 -6599.97800      -275.000000  \n",
       "25%        2.000000     0.000000     1.72620         7.500000  \n",
       "50%        3.000000     0.200000     8.67100        27.000000  \n",
       "75%        5.000000     0.200000    29.37200        36.250000  \n",
       "max       14.000000     0.800000  8399.97600        50.000000  "
      ]
     },
     "execution_count": 13,
     "metadata": {},
     "output_type": "execute_result"
    }
   ],
   "source": [
    "# Get descriptive statistics summary\n",
    "superstore.describe(include = \"all\")"
   ]
  },
  {
   "cell_type": "markdown",
   "id": "c5b17b39",
   "metadata": {
    "papermill": {
     "duration": 0.040031,
     "end_time": "2021-07-09T05:33:20.763463",
     "exception": false,
     "start_time": "2021-07-09T05:33:20.723432",
     "status": "completed"
    },
    "tags": []
   },
   "source": [
    "You will see 'NaN' in some of the categorical columns and that's perfectly fine. Categorical values are not meant to have calculations performed on them so, we can ignore those. \n",
    "\n",
    "What we want to focus is the unique count and frequency of the categorical features such as\n",
    "- There are 4 ship modes and 3 customer segments. Nearly half of the orders are from Consumer segment using Standard Class shipment.\n",
    "- The store carries 3 category of items with 17 sub-category. 60% of orders are for Office Supplies and at least 15% purchases are for Binders. \n",
    "\n",
    "While for numerical parameters, it's interesting to note that the \n",
    "- 75% of orders makes at least 36% profit margin.\n",
    "- Loss-making orders can go up to 275% losses. We must place emphasis on these loss-making sales to cut them off.\n",
    "\n",
    "We will perform some analysis below to test these observations."
   ]
  },
  {
   "cell_type": "markdown",
   "id": "082bfdf1",
   "metadata": {
    "papermill": {
     "duration": 0.04072,
     "end_time": "2021-07-09T05:33:20.845180",
     "exception": false,
     "start_time": "2021-07-09T05:33:20.804460",
     "status": "completed"
    },
    "tags": []
   },
   "source": [
    "---\n",
    "\n",
    "## Exploratory Data Analysis\n",
    "\n",
    "### 1. Which Category is Best Selling and Most Profitable?\n",
    "\n",
    "Best Selling means looking at the Sales and Most Profitable is referring to the Profit. We will group the Sales, Profit and also Quantity by Category and run the df.group().sum and pd.DataFrame() functions."
   ]
  },
  {
   "cell_type": "code",
   "execution_count": 14,
   "id": "b9a6befd",
   "metadata": {
    "execution": {
     "iopub.execute_input": "2021-07-09T05:33:20.929645Z",
     "iopub.status.busy": "2021-07-09T05:33:20.928973Z",
     "iopub.status.idle": "2021-07-09T05:33:20.947308Z",
     "shell.execute_reply": "2021-07-09T05:33:20.947908Z",
     "shell.execute_reply.started": "2021-07-09T05:32:14.439323Z"
    },
    "papermill": {
     "duration": 0.062555,
     "end_time": "2021-07-09T05:33:20.948117",
     "exception": false,
     "start_time": "2021-07-09T05:33:20.885562",
     "status": "completed"
    },
    "tags": []
   },
   "outputs": [
    {
     "data": {
      "text/html": [
       "<div>\n",
       "<style scoped>\n",
       "    .dataframe tbody tr th:only-of-type {\n",
       "        vertical-align: middle;\n",
       "    }\n",
       "\n",
       "    .dataframe tbody tr th {\n",
       "        vertical-align: top;\n",
       "    }\n",
       "\n",
       "    .dataframe thead th {\n",
       "        text-align: right;\n",
       "    }\n",
       "</style>\n",
       "<table border=\"1\" class=\"dataframe\">\n",
       "  <thead>\n",
       "    <tr style=\"text-align: right;\">\n",
       "      <th></th>\n",
       "      <th>Sales</th>\n",
       "      <th>Profit</th>\n",
       "      <th>Quantity</th>\n",
       "    </tr>\n",
       "    <tr>\n",
       "      <th>Category</th>\n",
       "      <th></th>\n",
       "      <th></th>\n",
       "      <th></th>\n",
       "    </tr>\n",
       "  </thead>\n",
       "  <tbody>\n",
       "    <tr>\n",
       "      <th>Furniture</th>\n",
       "      <td>741306.3133</td>\n",
       "      <td>18421.8137</td>\n",
       "      <td>8020</td>\n",
       "    </tr>\n",
       "    <tr>\n",
       "      <th>Office Supplies</th>\n",
       "      <td>718735.2440</td>\n",
       "      <td>122364.6608</td>\n",
       "      <td>22861</td>\n",
       "    </tr>\n",
       "    <tr>\n",
       "      <th>Technology</th>\n",
       "      <td>836154.0330</td>\n",
       "      <td>145454.9481</td>\n",
       "      <td>6939</td>\n",
       "    </tr>\n",
       "  </tbody>\n",
       "</table>\n",
       "</div>"
      ],
      "text/plain": [
       "                       Sales       Profit  Quantity\n",
       "Category                                           \n",
       "Furniture        741306.3133   18421.8137      8020\n",
       "Office Supplies  718735.2440  122364.6608     22861\n",
       "Technology       836154.0330  145454.9481      6939"
      ]
     },
     "execution_count": 14,
     "metadata": {},
     "output_type": "execute_result"
    }
   ],
   "source": [
    "# Group sales, profit and quantity by category\n",
    "category_analysis = pd.DataFrame(superstore.groupby(['Category'])[['Sales', 'Profit', 'Quantity']].sum())\n",
    "category_analysis"
   ]
  },
  {
   "cell_type": "code",
   "execution_count": 15,
   "id": "cc4c2ab8",
   "metadata": {
    "execution": {
     "iopub.execute_input": "2021-07-09T05:33:21.034512Z",
     "iopub.status.busy": "2021-07-09T05:33:21.033847Z",
     "iopub.status.idle": "2021-07-09T05:33:21.596433Z",
     "shell.execute_reply": "2021-07-09T05:33:21.595884Z",
     "shell.execute_reply.started": "2021-07-09T05:32:14.461675Z"
    },
    "papermill": {
     "duration": 0.606245,
     "end_time": "2021-07-09T05:33:21.596591",
     "exception": false,
     "start_time": "2021-07-09T05:33:20.990346",
     "status": "completed"
    },
    "tags": []
   },
   "outputs": [
    {
     "data": {
      "image/png": "[encoded data removed]",
      "text/plain": [
       "<Figure size 576x360 with 3 Axes>"
      ]
     },
     "metadata": {},
     "output_type": "display_data"
    }
   ],
   "source": [
    "# Set for grouped plots - figure with a 2x2 grid of Axes\n",
    "sns.set_theme(style=\"whitegrid\")\n",
    "figure, axis = plt.subplots(1, 3, figsize=(8, 5))\n",
    "\n",
    "# Plot barplots\n",
    "cat1 = sns.barplot(x = category_analysis.index, y = category_analysis.Sales, ax=axis[0])\n",
    "cat2 = sns.barplot(x = category_analysis.index, y = category_analysis.Profit, ax=axis[1])\n",
    "cat3 = sns.barplot(x = category_analysis.index, y = category_analysis.Quantity, ax=axis[2])\n",
    "\n",
    "# Set titles\n",
    "cat1.set(title = 'Sales')\n",
    "cat2.set(title = 'Profit')\n",
    "cat3.set(title = 'Quantity')\n",
    "\n",
    "# Rotate axis for x-axis\n",
    "plt.setp(cat1.get_xticklabels(), rotation = 'vertical', size = 9)\n",
    "plt.setp(cat2.get_xticklabels(), rotation = 'vertical', size = 9)\n",
    "plt.setp(cat3.get_xticklabels(), rotation = 'vertical', size = 9)\n",
    "\n",
    "# Set spacing between subplots\n",
    "figure.tight_layout()"
   ]
  },
  {
   "cell_type": "markdown",
   "id": "1c0dc14a",
   "metadata": {
    "papermill": {
     "duration": 0.041638,
     "end_time": "2021-07-09T05:33:21.679950",
     "exception": false,
     "start_time": "2021-07-09T05:33:21.638312",
     "status": "completed"
    },
    "tags": []
   },
   "source": [
    "Our observations are:\n",
    "- All 3 categories - Furniture, Office Supplies and Technology make similar amount of sales.\n",
    "- Technology is Best Selling and it's good to know that this category is the Most Profitable too. Only minimal quantity is sold as these products are usually one-off purchases that can last at least 4-5 years.\n",
    "- Although Furniture makes similar sales as Technology, it is the least profitable and quantity sold are at a minimum too.\n",
    "- Office Supplies sells the most in terms of quantity as it is relatively cheap product."
   ]
  },
  {
   "cell_type": "markdown",
   "id": "5df3affe",
   "metadata": {
    "papermill": {
     "duration": 0.041525,
     "end_time": "2021-07-09T05:33:21.763199",
     "exception": false,
     "start_time": "2021-07-09T05:33:21.721674",
     "status": "completed"
    },
    "tags": []
   },
   "source": [
    "### 2. What are the Best Selling and Most Profitable Sub-Category?"
   ]
  },
  {
   "cell_type": "code",
   "execution_count": 16,
   "id": "c47a5be0",
   "metadata": {
    "execution": {
     "iopub.execute_input": "2021-07-09T05:33:21.857606Z",
     "iopub.status.busy": "2021-07-09T05:33:21.856648Z",
     "iopub.status.idle": "2021-07-09T05:33:21.861059Z",
     "shell.execute_reply": "2021-07-09T05:33:21.860453Z",
     "shell.execute_reply.started": "2021-07-09T05:32:15.050685Z"
    },
    "papermill": {
     "duration": 0.05479,
     "end_time": "2021-07-09T05:33:21.861215",
     "exception": false,
     "start_time": "2021-07-09T05:33:21.806425",
     "status": "completed"
    },
    "tags": []
   },
   "outputs": [],
   "source": [
    "# Group by sub-category\n",
    "subcat_analysis = pd.DataFrame(superstore.groupby(['Sub-Category'])[['Sales', 'Profit']].sum())"
   ]
  },
  {
   "cell_type": "code",
   "execution_count": 17,
   "id": "d8539868",
   "metadata": {
    "execution": {
     "iopub.execute_input": "2021-07-09T05:33:21.961212Z",
     "iopub.status.busy": "2021-07-09T05:33:21.960298Z",
     "iopub.status.idle": "2021-07-09T05:33:21.963720Z",
     "shell.execute_reply": "2021-07-09T05:33:21.964280Z",
     "shell.execute_reply.started": "2021-07-09T05:32:15.065580Z"
    },
    "papermill": {
     "duration": 0.058799,
     "end_time": "2021-07-09T05:33:21.964452",
     "exception": false,
     "start_time": "2021-07-09T05:33:21.905653",
     "status": "completed"
    },
    "tags": []
   },
   "outputs": [
    {
     "data": {
      "text/html": [
       "<div>\n",
       "<style scoped>\n",
       "    .dataframe tbody tr th:only-of-type {\n",
       "        vertical-align: middle;\n",
       "    }\n",
       "\n",
       "    .dataframe tbody tr th {\n",
       "        vertical-align: top;\n",
       "    }\n",
       "\n",
       "    .dataframe thead th {\n",
       "        text-align: right;\n",
       "    }\n",
       "</style>\n",
       "<table border=\"1\" class=\"dataframe\">\n",
       "  <thead>\n",
       "    <tr style=\"text-align: right;\">\n",
       "      <th></th>\n",
       "      <th>Sales</th>\n",
       "      <th>Profit</th>\n",
       "    </tr>\n",
       "    <tr>\n",
       "      <th>Sub-Category</th>\n",
       "      <th></th>\n",
       "      <th></th>\n",
       "    </tr>\n",
       "  </thead>\n",
       "  <tbody>\n",
       "    <tr>\n",
       "      <th>Phones</th>\n",
       "      <td>330007.0540</td>\n",
       "      <td>44515.7306</td>\n",
       "    </tr>\n",
       "    <tr>\n",
       "      <th>Chairs</th>\n",
       "      <td>327777.7610</td>\n",
       "      <td>26567.1278</td>\n",
       "    </tr>\n",
       "    <tr>\n",
       "      <th>Storage</th>\n",
       "      <td>223843.6080</td>\n",
       "      <td>21278.8264</td>\n",
       "    </tr>\n",
       "    <tr>\n",
       "      <th>Tables</th>\n",
       "      <td>206965.5320</td>\n",
       "      <td>-17725.4811</td>\n",
       "    </tr>\n",
       "    <tr>\n",
       "      <th>Binders</th>\n",
       "      <td>203409.1690</td>\n",
       "      <td>30228.0003</td>\n",
       "    </tr>\n",
       "    <tr>\n",
       "      <th>Machines</th>\n",
       "      <td>189238.6310</td>\n",
       "      <td>3384.7569</td>\n",
       "    </tr>\n",
       "    <tr>\n",
       "      <th>Accessories</th>\n",
       "      <td>167380.3180</td>\n",
       "      <td>41936.6357</td>\n",
       "    </tr>\n",
       "    <tr>\n",
       "      <th>Copiers</th>\n",
       "      <td>149528.0300</td>\n",
       "      <td>55617.8249</td>\n",
       "    </tr>\n",
       "    <tr>\n",
       "      <th>Bookcases</th>\n",
       "      <td>114879.9963</td>\n",
       "      <td>-3472.5560</td>\n",
       "    </tr>\n",
       "    <tr>\n",
       "      <th>Appliances</th>\n",
       "      <td>107532.1610</td>\n",
       "      <td>18138.0054</td>\n",
       "    </tr>\n",
       "    <tr>\n",
       "      <th>Furnishings</th>\n",
       "      <td>91683.0240</td>\n",
       "      <td>13052.7230</td>\n",
       "    </tr>\n",
       "    <tr>\n",
       "      <th>Paper</th>\n",
       "      <td>78224.1420</td>\n",
       "      <td>33944.2395</td>\n",
       "    </tr>\n",
       "    <tr>\n",
       "      <th>Supplies</th>\n",
       "      <td>46673.5380</td>\n",
       "      <td>-1189.0995</td>\n",
       "    </tr>\n",
       "    <tr>\n",
       "      <th>Art</th>\n",
       "      <td>27107.0320</td>\n",
       "      <td>6524.6118</td>\n",
       "    </tr>\n",
       "    <tr>\n",
       "      <th>Envelopes</th>\n",
       "      <td>16476.4020</td>\n",
       "      <td>6964.1767</td>\n",
       "    </tr>\n",
       "    <tr>\n",
       "      <th>Labels</th>\n",
       "      <td>12444.9120</td>\n",
       "      <td>5526.3820</td>\n",
       "    </tr>\n",
       "    <tr>\n",
       "      <th>Fasteners</th>\n",
       "      <td>3024.2800</td>\n",
       "      <td>949.5182</td>\n",
       "    </tr>\n",
       "  </tbody>\n",
       "</table>\n",
       "</div>"
      ],
      "text/plain": [
       "                    Sales      Profit\n",
       "Sub-Category                         \n",
       "Phones        330007.0540  44515.7306\n",
       "Chairs        327777.7610  26567.1278\n",
       "Storage       223843.6080  21278.8264\n",
       "Tables        206965.5320 -17725.4811\n",
       "Binders       203409.1690  30228.0003\n",
       "Machines      189238.6310   3384.7569\n",
       "Accessories   167380.3180  41936.6357\n",
       "Copiers       149528.0300  55617.8249\n",
       "Bookcases     114879.9963  -3472.5560\n",
       "Appliances    107532.1610  18138.0054\n",
       "Furnishings    91683.0240  13052.7230\n",
       "Paper          78224.1420  33944.2395\n",
       "Supplies       46673.5380  -1189.0995\n",
       "Art            27107.0320   6524.6118\n",
       "Envelopes      16476.4020   6964.1767\n",
       "Labels         12444.9120   5526.3820\n",
       "Fasteners       3024.2800    949.5182"
      ]
     },
     "execution_count": 17,
     "metadata": {},
     "output_type": "execute_result"
    }
   ],
   "source": [
    "# Sort by descending order according to sales\n",
    "subcat_sales = pd.DataFrame(subcat_analysis.sort_values('Sales', ascending = False))\n",
    "subcat_sales"
   ]
  },
  {
   "cell_type": "code",
   "execution_count": 18,
   "id": "a218c106",
   "metadata": {
    "execution": {
     "iopub.execute_input": "2021-07-09T05:33:22.053967Z",
     "iopub.status.busy": "2021-07-09T05:33:22.053321Z",
     "iopub.status.idle": "2021-07-09T05:33:22.067530Z",
     "shell.execute_reply": "2021-07-09T05:33:22.066878Z",
     "shell.execute_reply.started": "2021-07-09T05:32:15.089998Z"
    },
    "papermill": {
     "duration": 0.059362,
     "end_time": "2021-07-09T05:33:22.067692",
     "exception": false,
     "start_time": "2021-07-09T05:33:22.008330",
     "status": "completed"
    },
    "tags": []
   },
   "outputs": [
    {
     "data": {
      "text/html": [
       "<div>\n",
       "<style scoped>\n",
       "    .dataframe tbody tr th:only-of-type {\n",
       "        vertical-align: middle;\n",
       "    }\n",
       "\n",
       "    .dataframe tbody tr th {\n",
       "        vertical-align: top;\n",
       "    }\n",
       "\n",
       "    .dataframe thead th {\n",
       "        text-align: right;\n",
       "    }\n",
       "</style>\n",
       "<table border=\"1\" class=\"dataframe\">\n",
       "  <thead>\n",
       "    <tr style=\"text-align: right;\">\n",
       "      <th></th>\n",
       "      <th>Sales</th>\n",
       "      <th>Profit</th>\n",
       "    </tr>\n",
       "    <tr>\n",
       "      <th>Sub-Category</th>\n",
       "      <th></th>\n",
       "      <th></th>\n",
       "    </tr>\n",
       "  </thead>\n",
       "  <tbody>\n",
       "    <tr>\n",
       "      <th>Copiers</th>\n",
       "      <td>149528.0300</td>\n",
       "      <td>55617.8249</td>\n",
       "    </tr>\n",
       "    <tr>\n",
       "      <th>Phones</th>\n",
       "      <td>330007.0540</td>\n",
       "      <td>44515.7306</td>\n",
       "    </tr>\n",
       "    <tr>\n",
       "      <th>Accessories</th>\n",
       "      <td>167380.3180</td>\n",
       "      <td>41936.6357</td>\n",
       "    </tr>\n",
       "    <tr>\n",
       "      <th>Paper</th>\n",
       "      <td>78224.1420</td>\n",
       "      <td>33944.2395</td>\n",
       "    </tr>\n",
       "    <tr>\n",
       "      <th>Binders</th>\n",
       "      <td>203409.1690</td>\n",
       "      <td>30228.0003</td>\n",
       "    </tr>\n",
       "    <tr>\n",
       "      <th>Chairs</th>\n",
       "      <td>327777.7610</td>\n",
       "      <td>26567.1278</td>\n",
       "    </tr>\n",
       "    <tr>\n",
       "      <th>Storage</th>\n",
       "      <td>223843.6080</td>\n",
       "      <td>21278.8264</td>\n",
       "    </tr>\n",
       "    <tr>\n",
       "      <th>Appliances</th>\n",
       "      <td>107532.1610</td>\n",
       "      <td>18138.0054</td>\n",
       "    </tr>\n",
       "    <tr>\n",
       "      <th>Furnishings</th>\n",
       "      <td>91683.0240</td>\n",
       "      <td>13052.7230</td>\n",
       "    </tr>\n",
       "    <tr>\n",
       "      <th>Envelopes</th>\n",
       "      <td>16476.4020</td>\n",
       "      <td>6964.1767</td>\n",
       "    </tr>\n",
       "    <tr>\n",
       "      <th>Art</th>\n",
       "      <td>27107.0320</td>\n",
       "      <td>6524.6118</td>\n",
       "    </tr>\n",
       "    <tr>\n",
       "      <th>Labels</th>\n",
       "      <td>12444.9120</td>\n",
       "      <td>5526.3820</td>\n",
       "    </tr>\n",
       "    <tr>\n",
       "      <th>Machines</th>\n",
       "      <td>189238.6310</td>\n",
       "      <td>3384.7569</td>\n",
       "    </tr>\n",
       "    <tr>\n",
       "      <th>Fasteners</th>\n",
       "      <td>3024.2800</td>\n",
       "      <td>949.5182</td>\n",
       "    </tr>\n",
       "    <tr>\n",
       "      <th>Supplies</th>\n",
       "      <td>46673.5380</td>\n",
       "      <td>-1189.0995</td>\n",
       "    </tr>\n",
       "    <tr>\n",
       "      <th>Bookcases</th>\n",
       "      <td>114879.9963</td>\n",
       "      <td>-3472.5560</td>\n",
       "    </tr>\n",
       "    <tr>\n",
       "      <th>Tables</th>\n",
       "      <td>206965.5320</td>\n",
       "      <td>-17725.4811</td>\n",
       "    </tr>\n",
       "  </tbody>\n",
       "</table>\n",
       "</div>"
      ],
      "text/plain": [
       "                    Sales      Profit\n",
       "Sub-Category                         \n",
       "Copiers       149528.0300  55617.8249\n",
       "Phones        330007.0540  44515.7306\n",
       "Accessories   167380.3180  41936.6357\n",
       "Paper          78224.1420  33944.2395\n",
       "Binders       203409.1690  30228.0003\n",
       "Chairs        327777.7610  26567.1278\n",
       "Storage       223843.6080  21278.8264\n",
       "Appliances    107532.1610  18138.0054\n",
       "Furnishings    91683.0240  13052.7230\n",
       "Envelopes      16476.4020   6964.1767\n",
       "Art            27107.0320   6524.6118\n",
       "Labels         12444.9120   5526.3820\n",
       "Machines      189238.6310   3384.7569\n",
       "Fasteners       3024.2800    949.5182\n",
       "Supplies       46673.5380  -1189.0995\n",
       "Bookcases     114879.9963  -3472.5560\n",
       "Tables        206965.5320 -17725.4811"
      ]
     },
     "execution_count": 18,
     "metadata": {},
     "output_type": "execute_result"
    }
   ],
   "source": [
    "# Sort by descending order according to profit\n",
    "subcat_profit = pd.DataFrame(subcat_analysis.sort_values('Profit', ascending = False))\n",
    "subcat_profit"
   ]
  },
  {
   "cell_type": "code",
   "execution_count": 19,
   "id": "2587af37",
   "metadata": {
    "execution": {
     "iopub.execute_input": "2021-07-09T05:33:22.158657Z",
     "iopub.status.busy": "2021-07-09T05:33:22.157652Z",
     "iopub.status.idle": "2021-07-09T05:33:22.985397Z",
     "shell.execute_reply": "2021-07-09T05:33:22.984677Z",
     "shell.execute_reply.started": "2021-07-09T05:32:15.110201Z"
    },
    "papermill": {
     "duration": 0.873597,
     "end_time": "2021-07-09T05:33:22.985551",
     "exception": false,
     "start_time": "2021-07-09T05:33:22.111954",
     "status": "completed"
    },
    "tags": []
   },
   "outputs": [
    {
     "data": {
      "image/png": "[encoded data removed]",
      "text/plain": [
       "<Figure size 864x432 with 2 Axes>"
      ]
     },
     "metadata": {},
     "output_type": "display_data"
    }
   ],
   "source": [
    "# Plot Bar Plots\n",
    "\n",
    "sns.set_theme(style=\"whitegrid\")\n",
    "\n",
    "# Set for grouped plots - figure with a 1x2 grid of Axes\n",
    "figure, axis = plt.subplots(1, 2, figsize=(12, 6))\n",
    "\n",
    "# Plot Bar Plot for Best Selling Sub-Category\n",
    "subcat1 = sns.barplot(data = subcat_sales, x = subcat_sales.index, y = subcat_sales.Sales, ax=axis[0])\n",
    "subcat1.set(title=\"Best Selling Sub-Category\")\n",
    "subcat1.set_xticklabels(subcat1.get_xticklabels(),rotation = \"vertical\", size = 10)\n",
    "\n",
    "# Plot Bar Plot for Most Profitable Sub-Category\n",
    "subcat2 = sns.barplot(data = subcat_profit, x = subcat_profit.index, y = subcat_profit.Profit, ax=axis[1])\n",
    "subcat2.set(title = \"Most Profitable Sub-Category\")\n",
    "subcat2.set_xticklabels(subcat2.get_xticklabels(),rotation = \"vertical\", size = 10)\n",
    "\n",
    "# Set spacing between subplots\n",
    "figure.tight_layout()\n",
    "\n",
    "plt.show()"
   ]
  },
  {
   "cell_type": "markdown",
   "id": "39b0bd39",
   "metadata": {
    "papermill": {
     "duration": 0.0447,
     "end_time": "2021-07-09T05:33:23.075819",
     "exception": false,
     "start_time": "2021-07-09T05:33:23.031119",
     "status": "completed"
    },
    "tags": []
   },
   "source": [
    "Let's analyse the bar plots:\n",
    "- Phones and Chairs are Top 2 best selling sub-category.\n",
    "- Copiers produces most profit, followed by Phones, Accessories, Papers and Binders. The marketing strategy has to focus on marketing these products.\n",
    "- On the other end of the spectrum, Machines, Fasteners, Supplies, Bookcases and Tables make close to zero margin to losses. These are products that Super Store can consider dropping from the product catalogue or increase the sale price and profit margin or bargain for a lower price from the supplier.\n"
   ]
  },
  {
   "cell_type": "markdown",
   "id": "8a78a7b0",
   "metadata": {
    "papermill": {
     "duration": 0.044231,
     "end_time": "2021-07-09T05:33:23.165509",
     "exception": false,
     "start_time": "2021-07-09T05:33:23.121278",
     "status": "completed"
    },
    "tags": []
   },
   "source": [
    "### 3. Which is the Top Selling Sub-Category?"
   ]
  },
  {
   "cell_type": "code",
   "execution_count": 20,
   "id": "a21d7b81",
   "metadata": {
    "execution": {
     "iopub.execute_input": "2021-07-09T05:33:23.263461Z",
     "iopub.status.busy": "2021-07-09T05:33:23.262739Z",
     "iopub.status.idle": "2021-07-09T05:33:23.273049Z",
     "shell.execute_reply": "2021-07-09T05:33:23.273533Z",
     "shell.execute_reply.started": "2021-07-09T05:32:15.965512Z"
    },
    "papermill": {
     "duration": 0.062996,
     "end_time": "2021-07-09T05:33:23.273712",
     "exception": false,
     "start_time": "2021-07-09T05:33:23.210716",
     "status": "completed"
    },
    "tags": []
   },
   "outputs": [
    {
     "data": {
      "text/html": [
       "<div>\n",
       "<style scoped>\n",
       "    .dataframe tbody tr th:only-of-type {\n",
       "        vertical-align: middle;\n",
       "    }\n",
       "\n",
       "    .dataframe tbody tr th {\n",
       "        vertical-align: top;\n",
       "    }\n",
       "\n",
       "    .dataframe thead th {\n",
       "        text-align: right;\n",
       "    }\n",
       "</style>\n",
       "<table border=\"1\" class=\"dataframe\">\n",
       "  <thead>\n",
       "    <tr style=\"text-align: right;\">\n",
       "      <th></th>\n",
       "      <th>Quantity</th>\n",
       "    </tr>\n",
       "    <tr>\n",
       "      <th>Sub-Category</th>\n",
       "      <th></th>\n",
       "    </tr>\n",
       "  </thead>\n",
       "  <tbody>\n",
       "    <tr>\n",
       "      <th>Binders</th>\n",
       "      <td>5971</td>\n",
       "    </tr>\n",
       "    <tr>\n",
       "      <th>Paper</th>\n",
       "      <td>5144</td>\n",
       "    </tr>\n",
       "    <tr>\n",
       "      <th>Furnishings</th>\n",
       "      <td>3560</td>\n",
       "    </tr>\n",
       "    <tr>\n",
       "      <th>Phones</th>\n",
       "      <td>3289</td>\n",
       "    </tr>\n",
       "    <tr>\n",
       "      <th>Storage</th>\n",
       "      <td>3158</td>\n",
       "    </tr>\n",
       "    <tr>\n",
       "      <th>Art</th>\n",
       "      <td>2996</td>\n",
       "    </tr>\n",
       "    <tr>\n",
       "      <th>Accessories</th>\n",
       "      <td>2976</td>\n",
       "    </tr>\n",
       "    <tr>\n",
       "      <th>Chairs</th>\n",
       "      <td>2351</td>\n",
       "    </tr>\n",
       "    <tr>\n",
       "      <th>Appliances</th>\n",
       "      <td>1729</td>\n",
       "    </tr>\n",
       "    <tr>\n",
       "      <th>Labels</th>\n",
       "      <td>1396</td>\n",
       "    </tr>\n",
       "    <tr>\n",
       "      <th>Tables</th>\n",
       "      <td>1241</td>\n",
       "    </tr>\n",
       "    <tr>\n",
       "      <th>Fasteners</th>\n",
       "      <td>914</td>\n",
       "    </tr>\n",
       "    <tr>\n",
       "      <th>Envelopes</th>\n",
       "      <td>906</td>\n",
       "    </tr>\n",
       "    <tr>\n",
       "      <th>Bookcases</th>\n",
       "      <td>868</td>\n",
       "    </tr>\n",
       "    <tr>\n",
       "      <th>Supplies</th>\n",
       "      <td>647</td>\n",
       "    </tr>\n",
       "    <tr>\n",
       "      <th>Machines</th>\n",
       "      <td>440</td>\n",
       "    </tr>\n",
       "    <tr>\n",
       "      <th>Copiers</th>\n",
       "      <td>234</td>\n",
       "    </tr>\n",
       "  </tbody>\n",
       "</table>\n",
       "</div>"
      ],
      "text/plain": [
       "              Quantity\n",
       "Sub-Category          \n",
       "Binders           5971\n",
       "Paper             5144\n",
       "Furnishings       3560\n",
       "Phones            3289\n",
       "Storage           3158\n",
       "Art               2996\n",
       "Accessories       2976\n",
       "Chairs            2351\n",
       "Appliances        1729\n",
       "Labels            1396\n",
       "Tables            1241\n",
       "Fasteners          914\n",
       "Envelopes          906\n",
       "Bookcases          868\n",
       "Supplies           647\n",
       "Machines           440\n",
       "Copiers            234"
      ]
     },
     "execution_count": 20,
     "metadata": {},
     "output_type": "execute_result"
    }
   ],
   "source": [
    "subcat_quantity = pd.DataFrame(superstore.groupby(['Sub-Category'])[['Quantity']].sum().sort_values('Quantity',ascending=False))\n",
    "subcat_quantity"
   ]
  },
  {
   "cell_type": "code",
   "execution_count": 21,
   "id": "fded7440",
   "metadata": {
    "execution": {
     "iopub.execute_input": "2021-07-09T05:33:23.368442Z",
     "iopub.status.busy": "2021-07-09T05:33:23.367365Z",
     "iopub.status.idle": "2021-07-09T05:33:23.669594Z",
     "shell.execute_reply": "2021-07-09T05:33:23.670039Z",
     "shell.execute_reply.started": "2021-07-09T05:32:15.983719Z"
    },
    "papermill": {
     "duration": 0.350787,
     "end_time": "2021-07-09T05:33:23.670240",
     "exception": false,
     "start_time": "2021-07-09T05:33:23.319453",
     "status": "completed"
    },
    "tags": []
   },
   "outputs": [
    {
     "data": {
      "image/png": "[encoded data removed]",
      "text/plain": [
       "<Figure size 432x288 with 1 Axes>"
      ]
     },
     "metadata": {},
     "output_type": "display_data"
    }
   ],
   "source": [
    "# Plot Bar Plot for Top Selling Sub-Category\n",
    "sns.set_theme(style=\"whitegrid\")\n",
    "sns.barplot(data = subcat_quantity, y = subcat_quantity.index, x = subcat_quantity.Quantity, palette = \"muted\")\n",
    "plt.title(\"Top Selling Sub-Category\")\n",
    "plt.show()"
   ]
  },
  {
   "cell_type": "markdown",
   "id": "4951a445",
   "metadata": {
    "papermill": {
     "duration": 0.04623,
     "end_time": "2021-07-09T05:33:23.763129",
     "exception": false,
     "start_time": "2021-07-09T05:33:23.716899",
     "status": "completed"
    },
    "tags": []
   },
   "source": [
    "Here, we can deduce that\n",
    "- Super Store should ensure inventory are always well-stocked for the top selling sub-category such as Binders, Paper, Furnishings and Phones.\n",
    "- Despite being most profitable, Copiers sell the least only 234, but as it is a relatively expensive office equipment that is usually used for few years, it is understandable that it sells the least among all. "
   ]
  },
  {
   "cell_type": "markdown",
   "id": "1b799038",
   "metadata": {
    "papermill": {
     "duration": 0.047179,
     "end_time": "2021-07-09T05:33:23.857853",
     "exception": false,
     "start_time": "2021-07-09T05:33:23.810674",
     "status": "completed"
    },
    "tags": []
   },
   "source": [
    "### 4. Which Customer Segment is Most Profitable?"
   ]
  },
  {
   "cell_type": "code",
   "execution_count": 22,
   "id": "fdf21bdf",
   "metadata": {
    "execution": {
     "iopub.execute_input": "2021-07-09T05:33:23.954330Z",
     "iopub.status.busy": "2021-07-09T05:33:23.953342Z",
     "iopub.status.idle": "2021-07-09T05:33:23.966638Z",
     "shell.execute_reply": "2021-07-09T05:33:23.967196Z",
     "shell.execute_reply.started": "2021-07-09T05:32:16.290291Z"
    },
    "papermill": {
     "duration": 0.063585,
     "end_time": "2021-07-09T05:33:23.967365",
     "exception": false,
     "start_time": "2021-07-09T05:33:23.903780",
     "status": "completed"
    },
    "tags": []
   },
   "outputs": [
    {
     "data": {
      "text/html": [
       "<div>\n",
       "<style scoped>\n",
       "    .dataframe tbody tr th:only-of-type {\n",
       "        vertical-align: middle;\n",
       "    }\n",
       "\n",
       "    .dataframe tbody tr th {\n",
       "        vertical-align: top;\n",
       "    }\n",
       "\n",
       "    .dataframe thead th {\n",
       "        text-align: right;\n",
       "    }\n",
       "</style>\n",
       "<table border=\"1\" class=\"dataframe\">\n",
       "  <thead>\n",
       "    <tr style=\"text-align: right;\">\n",
       "      <th></th>\n",
       "      <th>Profit</th>\n",
       "    </tr>\n",
       "    <tr>\n",
       "      <th>Segment</th>\n",
       "      <th></th>\n",
       "    </tr>\n",
       "  </thead>\n",
       "  <tbody>\n",
       "    <tr>\n",
       "      <th>Consumer</th>\n",
       "      <td>134007.4413</td>\n",
       "    </tr>\n",
       "    <tr>\n",
       "      <th>Corporate</th>\n",
       "      <td>91954.9798</td>\n",
       "    </tr>\n",
       "    <tr>\n",
       "      <th>Home Office</th>\n",
       "      <td>60279.0015</td>\n",
       "    </tr>\n",
       "  </tbody>\n",
       "</table>\n",
       "</div>"
      ],
      "text/plain": [
       "                  Profit\n",
       "Segment                 \n",
       "Consumer     134007.4413\n",
       "Corporate     91954.9798\n",
       "Home Office   60279.0015"
      ]
     },
     "execution_count": 22,
     "metadata": {},
     "output_type": "execute_result"
    }
   ],
   "source": [
    "segment_analysis = pd.DataFrame(superstore.groupby(['Segment'])[['Profit']].sum())\n",
    "segment_analysis"
   ]
  },
  {
   "cell_type": "code",
   "execution_count": 23,
   "id": "2ce8a722",
   "metadata": {
    "execution": {
     "iopub.execute_input": "2021-07-09T05:33:24.064314Z",
     "iopub.status.busy": "2021-07-09T05:33:24.063327Z",
     "iopub.status.idle": "2021-07-09T05:33:24.330553Z",
     "shell.execute_reply": "2021-07-09T05:33:24.331110Z",
     "shell.execute_reply.started": "2021-07-09T05:32:16.305808Z"
    },
    "papermill": {
     "duration": 0.317503,
     "end_time": "2021-07-09T05:33:24.331290",
     "exception": false,
     "start_time": "2021-07-09T05:33:24.013787",
     "status": "completed"
    },
    "tags": []
   },
   "outputs": [
    {
     "data": {
      "image/png": "[encoded data removed]",
      "text/plain": [
       "<Figure size 432x288 with 1 Axes>"
      ]
     },
     "metadata": {},
     "output_type": "display_data"
    }
   ],
   "source": [
    "# Plot Bar Plot\n",
    "sns.set_theme(style=\"whitegrid\")\n",
    "sns.barplot(data = segment_analysis, x = segment_analysis.index, y = segment_analysis.Profit, palette = \"rocket\")\n",
    "plt.title(\"Customer Segment Profitability\")\n",
    "plt.show()"
   ]
  },
  {
   "cell_type": "markdown",
   "id": "089a1230",
   "metadata": {
    "papermill": {
     "duration": 0.048813,
     "end_time": "2021-07-09T05:33:24.427527",
     "exception": false,
     "start_time": "2021-07-09T05:33:24.378714",
     "status": "completed"
    },
    "tags": []
   },
   "source": [
    "Consumer segment is most profitable, followed by Corporate Segment and Home Office. Hence, marketing strategy has to target or place more focus on retaining Consumer and Corporate Segment customers."
   ]
  },
  {
   "cell_type": "markdown",
   "id": "91e726b0",
   "metadata": {
    "papermill": {
     "duration": 0.04788,
     "end_time": "2021-07-09T05:33:24.523259",
     "exception": false,
     "start_time": "2021-07-09T05:33:24.475379",
     "status": "completed"
    },
    "tags": []
   },
   "source": [
    "### 5. Which is the Preferred Ship Mode?"
   ]
  },
  {
   "cell_type": "code",
   "execution_count": 24,
   "id": "c8b1ce14",
   "metadata": {
    "execution": {
     "iopub.execute_input": "2021-07-09T05:33:24.624992Z",
     "iopub.status.busy": "2021-07-09T05:33:24.624013Z",
     "iopub.status.idle": "2021-07-09T05:33:24.789494Z",
     "shell.execute_reply": "2021-07-09T05:33:24.790040Z",
     "shell.execute_reply.started": "2021-07-09T05:32:16.466138Z"
    },
    "papermill": {
     "duration": 0.219303,
     "end_time": "2021-07-09T05:33:24.790245",
     "exception": false,
     "start_time": "2021-07-09T05:33:24.570942",
     "status": "completed"
    },
    "tags": []
   },
   "outputs": [
    {
     "data": {
      "image/png": "[encoded data removed]",
      "text/plain": [
       "<Figure size 432x288 with 1 Axes>"
      ]
     },
     "metadata": {},
     "output_type": "display_data"
    }
   ],
   "source": [
    "# Plot shipment mode\n",
    "sns.set_theme(style=\"whitegrid\")\n",
    "sns.countplot(superstore['Ship Mode'])\n",
    "plt.title(\"Ship Mode\")\n",
    "plt.show()"
   ]
  },
  {
   "cell_type": "markdown",
   "id": "b12a9e14",
   "metadata": {
    "papermill": {
     "duration": 0.048749,
     "end_time": "2021-07-09T05:33:24.888347",
     "exception": false,
     "start_time": "2021-07-09T05:33:24.839598",
     "status": "completed"
    },
    "tags": []
   },
   "source": [
    "By a landslide, Standard Class is the preferred method of shipment and perhaps the cheapest one too. The other modes are not popular among the customers and may be too costly. "
   ]
  },
  {
   "cell_type": "markdown",
   "id": "a99c7f0a",
   "metadata": {
    "papermill": {
     "duration": 0.053479,
     "end_time": "2021-07-09T05:33:24.991265",
     "exception": false,
     "start_time": "2021-07-09T05:33:24.937786",
     "status": "completed"
    },
    "tags": []
   },
   "source": [
    "### 6. Which Region is the Most Profitable?"
   ]
  },
  {
   "cell_type": "code",
   "execution_count": 25,
   "id": "ab6f4bcb",
   "metadata": {
    "execution": {
     "iopub.execute_input": "2021-07-09T05:33:25.093233Z",
     "iopub.status.busy": "2021-07-09T05:33:25.092275Z",
     "iopub.status.idle": "2021-07-09T05:33:25.106134Z",
     "shell.execute_reply": "2021-07-09T05:33:25.106730Z",
     "shell.execute_reply.started": "2021-07-09T05:32:16.640429Z"
    },
    "papermill": {
     "duration": 0.066699,
     "end_time": "2021-07-09T05:33:25.106898",
     "exception": false,
     "start_time": "2021-07-09T05:33:25.040199",
     "status": "completed"
    },
    "tags": []
   },
   "outputs": [
    {
     "data": {
      "text/html": [
       "<div>\n",
       "<style scoped>\n",
       "    .dataframe tbody tr th:only-of-type {\n",
       "        vertical-align: middle;\n",
       "    }\n",
       "\n",
       "    .dataframe tbody tr th {\n",
       "        vertical-align: top;\n",
       "    }\n",
       "\n",
       "    .dataframe thead th {\n",
       "        text-align: right;\n",
       "    }\n",
       "</style>\n",
       "<table border=\"1\" class=\"dataframe\">\n",
       "  <thead>\n",
       "    <tr style=\"text-align: right;\">\n",
       "      <th></th>\n",
       "      <th>Region</th>\n",
       "      <th>Profit</th>\n",
       "    </tr>\n",
       "  </thead>\n",
       "  <tbody>\n",
       "    <tr>\n",
       "      <th>0</th>\n",
       "      <td>Central</td>\n",
       "      <td>39655.8752</td>\n",
       "    </tr>\n",
       "    <tr>\n",
       "      <th>1</th>\n",
       "      <td>East</td>\n",
       "      <td>91506.3092</td>\n",
       "    </tr>\n",
       "    <tr>\n",
       "      <th>2</th>\n",
       "      <td>South</td>\n",
       "      <td>46749.4303</td>\n",
       "    </tr>\n",
       "    <tr>\n",
       "      <th>3</th>\n",
       "      <td>West</td>\n",
       "      <td>108329.8079</td>\n",
       "    </tr>\n",
       "  </tbody>\n",
       "</table>\n",
       "</div>"
      ],
      "text/plain": [
       "    Region       Profit\n",
       "0  Central   39655.8752\n",
       "1     East   91506.3092\n",
       "2    South   46749.4303\n",
       "3     West  108329.8079"
      ]
     },
     "execution_count": 25,
     "metadata": {},
     "output_type": "execute_result"
    }
   ],
   "source": [
    "region_analysis = pd.DataFrame(superstore.groupby(['Region'])['Profit'].sum().reset_index())\n",
    "region_analysis"
   ]
  },
  {
   "cell_type": "code",
   "execution_count": 26,
   "id": "619e8957",
   "metadata": {
    "execution": {
     "iopub.execute_input": "2021-07-09T05:33:25.208340Z",
     "iopub.status.busy": "2021-07-09T05:33:25.207349Z",
     "iopub.status.idle": "2021-07-09T05:33:25.418587Z",
     "shell.execute_reply": "2021-07-09T05:33:25.419082Z",
     "shell.execute_reply.started": "2021-07-09T05:32:16.658670Z"
    },
    "papermill": {
     "duration": 0.263209,
     "end_time": "2021-07-09T05:33:25.419254",
     "exception": false,
     "start_time": "2021-07-09T05:33:25.156045",
     "status": "completed"
    },
    "tags": []
   },
   "outputs": [
    {
     "data": {
      "image/png": "[encoded data removed]",
      "text/plain": [
       "<Figure size 432x288 with 1 Axes>"
      ]
     },
     "metadata": {},
     "output_type": "display_data"
    }
   ],
   "source": [
    "# Plot Pie Chart\n",
    "explode = [0, 0, 0, 0.1]\n",
    "\n",
    "plt.pie(region_analysis.Profit, labels = region_analysis.Region, startangle = 90, autopct = \"%1.0f%%\", explode = explode, shadow = True)\n",
    "plt.title(\"Most Profitable by Region\")\n",
    "\n",
    "plt.show()"
   ]
  },
  {
   "cell_type": "markdown",
   "id": "b2d8cf6f",
   "metadata": {
    "papermill": {
     "duration": 0.050546,
     "end_time": "2021-07-09T05:33:25.519542",
     "exception": false,
     "start_time": "2021-07-09T05:33:25.468996",
     "status": "completed"
    },
    "tags": []
   },
   "source": [
    "East and West region are most profitable.\n",
    "\n",
    "### 7. Which City has the Highest Number of Sales?"
   ]
  },
  {
   "cell_type": "code",
   "execution_count": 27,
   "id": "8d68579d",
   "metadata": {
    "execution": {
     "iopub.execute_input": "2021-07-09T05:33:25.627276Z",
     "iopub.status.busy": "2021-07-09T05:33:25.626532Z",
     "iopub.status.idle": "2021-07-09T05:33:25.640042Z",
     "shell.execute_reply": "2021-07-09T05:33:25.639471Z",
     "shell.execute_reply.started": "2021-07-09T05:32:16.790825Z"
    },
    "papermill": {
     "duration": 0.07121,
     "end_time": "2021-07-09T05:33:25.640198",
     "exception": false,
     "start_time": "2021-07-09T05:33:25.568988",
     "status": "completed"
    },
    "tags": []
   },
   "outputs": [
    {
     "data": {
      "text/html": [
       "<div>\n",
       "<style scoped>\n",
       "    .dataframe tbody tr th:only-of-type {\n",
       "        vertical-align: middle;\n",
       "    }\n",
       "\n",
       "    .dataframe tbody tr th {\n",
       "        vertical-align: top;\n",
       "    }\n",
       "\n",
       "    .dataframe thead th {\n",
       "        text-align: right;\n",
       "    }\n",
       "</style>\n",
       "<table border=\"1\" class=\"dataframe\">\n",
       "  <thead>\n",
       "    <tr style=\"text-align: right;\">\n",
       "      <th></th>\n",
       "      <th>Sales</th>\n",
       "      <th>Quantity</th>\n",
       "    </tr>\n",
       "    <tr>\n",
       "      <th>City</th>\n",
       "      <th></th>\n",
       "      <th></th>\n",
       "    </tr>\n",
       "  </thead>\n",
       "  <tbody>\n",
       "    <tr>\n",
       "      <th>New York City</th>\n",
       "      <td>256319.0410</td>\n",
       "      <td>3413</td>\n",
       "    </tr>\n",
       "    <tr>\n",
       "      <th>Los Angeles</th>\n",
       "      <td>175831.9010</td>\n",
       "      <td>2876</td>\n",
       "    </tr>\n",
       "    <tr>\n",
       "      <th>Seattle</th>\n",
       "      <td>119460.2820</td>\n",
       "      <td>1578</td>\n",
       "    </tr>\n",
       "    <tr>\n",
       "      <th>San Francisco</th>\n",
       "      <td>112577.1720</td>\n",
       "      <td>1920</td>\n",
       "    </tr>\n",
       "    <tr>\n",
       "      <th>Philadelphia</th>\n",
       "      <td>109061.4610</td>\n",
       "      <td>1978</td>\n",
       "    </tr>\n",
       "    <tr>\n",
       "      <th>Houston</th>\n",
       "      <td>64441.2564</td>\n",
       "      <td>1460</td>\n",
       "    </tr>\n",
       "    <tr>\n",
       "      <th>Chicago</th>\n",
       "      <td>48535.9770</td>\n",
       "      <td>1129</td>\n",
       "    </tr>\n",
       "    <tr>\n",
       "      <th>San Diego</th>\n",
       "      <td>47521.0290</td>\n",
       "      <td>670</td>\n",
       "    </tr>\n",
       "    <tr>\n",
       "      <th>Jacksonville</th>\n",
       "      <td>44713.1830</td>\n",
       "      <td>429</td>\n",
       "    </tr>\n",
       "    <tr>\n",
       "      <th>Springfield</th>\n",
       "      <td>43054.3420</td>\n",
       "      <td>649</td>\n",
       "    </tr>\n",
       "  </tbody>\n",
       "</table>\n",
       "</div>"
      ],
      "text/plain": [
       "                     Sales  Quantity\n",
       "City                                \n",
       "New York City  256319.0410      3413\n",
       "Los Angeles    175831.9010      2876\n",
       "Seattle        119460.2820      1578\n",
       "San Francisco  112577.1720      1920\n",
       "Philadelphia   109061.4610      1978\n",
       "Houston         64441.2564      1460\n",
       "Chicago         48535.9770      1129\n",
       "San Diego       47521.0290       670\n",
       "Jacksonville    44713.1830       429\n",
       "Springfield     43054.3420       649"
      ]
     },
     "execution_count": 27,
     "metadata": {},
     "output_type": "execute_result"
    }
   ],
   "source": [
    "city_sales = pd.DataFrame(superstore.groupby(['City'])['Sales', 'Quantity'].sum().sort_values('Sales',ascending = False))\n",
    "top10 = city_sales[:10]\n",
    "top10"
   ]
  },
  {
   "cell_type": "code",
   "execution_count": 28,
   "id": "2375ee40",
   "metadata": {
    "execution": {
     "iopub.execute_input": "2021-07-09T05:33:25.755409Z",
     "iopub.status.busy": "2021-07-09T05:33:25.754475Z",
     "iopub.status.idle": "2021-07-09T05:33:25.758635Z",
     "shell.execute_reply": "2021-07-09T05:33:25.759115Z",
     "shell.execute_reply.started": "2021-07-09T05:32:16.814879Z"
    },
    "papermill": {
     "duration": 0.068108,
     "end_time": "2021-07-09T05:33:25.759300",
     "exception": false,
     "start_time": "2021-07-09T05:33:25.691192",
     "status": "completed"
    },
    "tags": []
   },
   "outputs": [
    {
     "data": {
      "text/html": [
       "<div>\n",
       "<style scoped>\n",
       "    .dataframe tbody tr th:only-of-type {\n",
       "        vertical-align: middle;\n",
       "    }\n",
       "\n",
       "    .dataframe tbody tr th {\n",
       "        vertical-align: top;\n",
       "    }\n",
       "\n",
       "    .dataframe thead th {\n",
       "        text-align: right;\n",
       "    }\n",
       "</style>\n",
       "<table border=\"1\" class=\"dataframe\">\n",
       "  <thead>\n",
       "    <tr style=\"text-align: right;\">\n",
       "      <th></th>\n",
       "      <th>Sales</th>\n",
       "      <th>Quantity</th>\n",
       "    </tr>\n",
       "    <tr>\n",
       "      <th>City</th>\n",
       "      <th></th>\n",
       "      <th></th>\n",
       "    </tr>\n",
       "  </thead>\n",
       "  <tbody>\n",
       "    <tr>\n",
       "      <th>Missouri City</th>\n",
       "      <td>6.370</td>\n",
       "      <td>7</td>\n",
       "    </tr>\n",
       "    <tr>\n",
       "      <th>Keller</th>\n",
       "      <td>6.000</td>\n",
       "      <td>2</td>\n",
       "    </tr>\n",
       "    <tr>\n",
       "      <th>Layton</th>\n",
       "      <td>4.960</td>\n",
       "      <td>4</td>\n",
       "    </tr>\n",
       "    <tr>\n",
       "      <th>Springdale</th>\n",
       "      <td>4.300</td>\n",
       "      <td>2</td>\n",
       "    </tr>\n",
       "    <tr>\n",
       "      <th>San Luis Obispo</th>\n",
       "      <td>3.620</td>\n",
       "      <td>2</td>\n",
       "    </tr>\n",
       "    <tr>\n",
       "      <th>Ormond Beach</th>\n",
       "      <td>2.808</td>\n",
       "      <td>3</td>\n",
       "    </tr>\n",
       "    <tr>\n",
       "      <th>Pensacola</th>\n",
       "      <td>2.214</td>\n",
       "      <td>3</td>\n",
       "    </tr>\n",
       "    <tr>\n",
       "      <th>Jupiter</th>\n",
       "      <td>2.064</td>\n",
       "      <td>1</td>\n",
       "    </tr>\n",
       "    <tr>\n",
       "      <th>Elyria</th>\n",
       "      <td>1.824</td>\n",
       "      <td>1</td>\n",
       "    </tr>\n",
       "    <tr>\n",
       "      <th>Abilene</th>\n",
       "      <td>1.392</td>\n",
       "      <td>2</td>\n",
       "    </tr>\n",
       "  </tbody>\n",
       "</table>\n",
       "</div>"
      ],
      "text/plain": [
       "                 Sales  Quantity\n",
       "City                            \n",
       "Missouri City    6.370         7\n",
       "Keller           6.000         2\n",
       "Layton           4.960         4\n",
       "Springdale       4.300         2\n",
       "San Luis Obispo  3.620         2\n",
       "Ormond Beach     2.808         3\n",
       "Pensacola        2.214         3\n",
       "Jupiter          2.064         1\n",
       "Elyria           1.824         1\n",
       "Abilene          1.392         2"
      ]
     },
     "execution_count": 28,
     "metadata": {},
     "output_type": "execute_result"
    }
   ],
   "source": [
    "bottom10 = city_sales[-10:]\n",
    "bottom10"
   ]
  },
  {
   "cell_type": "code",
   "execution_count": 29,
   "id": "7cf92207",
   "metadata": {
    "execution": {
     "iopub.execute_input": "2021-07-09T05:33:25.915359Z",
     "iopub.status.busy": "2021-07-09T05:33:25.911344Z",
     "iopub.status.idle": "2021-07-09T05:33:26.405254Z",
     "shell.execute_reply": "2021-07-09T05:33:26.404688Z",
     "shell.execute_reply.started": "2021-07-09T05:32:16.832616Z"
    },
    "papermill": {
     "duration": 0.594456,
     "end_time": "2021-07-09T05:33:26.405421",
     "exception": false,
     "start_time": "2021-07-09T05:33:25.810965",
     "status": "completed"
    },
    "tags": []
   },
   "outputs": [
    {
     "data": {
      "image/png": "[encoded data removed]",
      "text/plain": [
       "<Figure size 864x360 with 2 Axes>"
      ]
     },
     "metadata": {},
     "output_type": "display_data"
    }
   ],
   "source": [
    "# Set for grouped plots - figure with a 1x2 grid of Axes\n",
    "figure, axis = plt.subplots(1, 2, figsize=(12, 5))\n",
    "\n",
    "sns.set_theme(style=\"whitegrid\")\n",
    "\n",
    "top10c = sns.barplot(data = top10, y = top10.index, x = top10.Sales, palette = \"coolwarm\", ax = axis[0])\n",
    "top10c.set(Title = \"Top 10 Cities with Highest Sales\")\n",
    "top10c.set_yticklabels(top10c.get_yticklabels(),size = 10)\n",
    "\n",
    "# Plot Bar Plot for Best Selling Sub-Category\n",
    "bottom10c = sns.barplot(data = bottom10, y = bottom10.index, x = bottom10.Sales, palette = \"coolwarm\", ax=axis[1])\n",
    "bottom10c.set(Title = \"Bottom 10 Cities with Lowest Sales\")\n",
    "bottom10c.set_yticklabels(bottom10c.get_yticklabels(),size = 10)\n",
    "\n",
    "# Set spacing between subplots\n",
    "figure.tight_layout()\n",
    "\n",
    "plt.show()"
   ]
  },
  {
   "cell_type": "markdown",
   "id": "a4d17a52",
   "metadata": {
    "papermill": {
     "duration": 0.052101,
     "end_time": "2021-07-09T05:33:26.509980",
     "exception": false,
     "start_time": "2021-07-09T05:33:26.457879",
     "status": "completed"
    },
    "tags": []
   },
   "source": [
    "There is a huge disparity between the cities with highest sales and lowest sales. Marketing strategy has to target the top 10 cities.\n",
    "\n",
    "---\n",
    "\n",
    "## Strategic Recommendation\n",
    "\n",
    "Here, we revisit our business questions and share with you our high-level business recommendations.\n",
    "\n",
    "**Business Questions**\n",
    "\n",
    "- Which Category is Best Selling and Most Profitable?\n",
    "- What are the Best Selling and Most Profitable Sub-Category?\n",
    "- Which is the Top Selling Sub-Category?\n",
    "- Which Customer Segment is Most Profitable?\n",
    "- Which is the Preferred Ship Mode?\n",
    "- Which Region is the Most Profitable?\n",
    "\n",
    "**Recommendations**\n",
    "\n",
    "- Focus on Technology sub-category and Phones and Chairs as they are highest selling and most profitable. Bundle them with the less profitable products such as Bookcases, Table and Chairs to offset the losses.\n",
    "- Selling Bookcases and Tables result in huge losses, so Super Store has to consider to bundle them together with High Selling or Profitable sub-category such as Chairs, Copiers, Phones and Office Supplies products.\n",
    "- For Home Offices customers, these people might be busy with work and less likely to spend time selecting individual products, so create a Home Office package with products used for offices such as table, chairs, phone, copiers, storage, label, fasteners, bookcases.\n",
    "- For loss-making products like Supplies, Bookcases, Tables, consider to either drop these from the catalogue or change suppliers and bargain for cheaper price.\n",
    "- Consumer and Corporate Segment make up more than 70% of customerbase. Target them, especially customers from the East and West region in the Top 10 cities with Highest Sales by introducing special promotions and bundles for mass Consumer and Home Offices and send promotional emails or flyers."
   ]
  },
  {
   "cell_type": "markdown",
   "id": "e606f531",
   "metadata": {
    "papermill": {
     "duration": 0.051842,
     "end_time": "2021-07-09T05:33:26.614101",
     "exception": false,
     "start_time": "2021-07-09T05:33:26.562259",
     "status": "completed"
    },
    "tags": []
   },
   "source": [
    "Thank you."
   ]
  }
 ],
 "metadata": {
  "kernelspec": {
   "display_name": "Python 3",
   "language": "python",
   "name": "python3"
  },
  "language_info": {
   "codemirror_mode": {
    "name": "ipython",
    "version": 3
   },
   "file_extension": ".py",
   "mimetype": "text/x-python",
   "name": "python",
   "nbconvert_exporter": "python",
   "pygments_lexer": "ipython3",
   "version": "3.7.10"
  },
  "papermill": {
   "default_parameters": {},
   "duration": 18.458131,
   "end_time": "2021-07-09T05:33:27.378039",
   "environment_variables": {},
   "exception": null,
   "input_path": "__notebook__.ipynb",
   "output_path": "__notebook__.ipynb",
   "parameters": {},
   "start_time": "2021-07-09T05:33:08.919908",
   "version": "2.3.3"
  }
 },
 "nbformat": 4,
 "nbformat_minor": 5
}
